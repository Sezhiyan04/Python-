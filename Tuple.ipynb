{
  "nbformat": 4,
  "nbformat_minor": 0,
  "metadata": {
    "colab": {
      "provenance": []
    },
    "kernelspec": {
      "name": "python3",
      "display_name": "Python 3"
    },
    "language_info": {
      "name": "python"
    }
  },
  "cells": [
    {
      "cell_type": "code",
      "execution_count": 3,
      "metadata": {
        "colab": {
          "base_uri": "https://localhost:8080/"
        },
        "id": "8kKKg5PrrHW_",
        "outputId": "01b3fbed-0e8b-44dc-f1c9-2e50ac28a22c"
      },
      "outputs": [
        {
          "output_type": "stream",
          "name": "stdout",
          "text": [
            "('python', 'excel', 'powe BI')\n",
            "<class 'tuple'>\n"
          ]
        }
      ],
      "source": [
        "# tuple\n",
        "course=(\"python\", \"excel\", \"powe BI\")\n",
        "print(course)\n",
        "print(type(course))"
      ]
    },
    {
      "cell_type": "code",
      "source": [
        "course=(\"python\", \"excel\", \"powe BI\")\n",
        "print(course[:2])"
      ],
      "metadata": {
        "colab": {
          "base_uri": "https://localhost:8080/"
        },
        "id": "qdeQFSJ7Mo1t",
        "outputId": "a98c1571-cd69-4be5-f187-65004e7187ec"
      },
      "execution_count": 4,
      "outputs": [
        {
          "output_type": "stream",
          "name": "stdout",
          "text": [
            "('python', 'excel')\n"
          ]
        }
      ]
    },
    {
      "cell_type": "code",
      "source": [
        "course=(\"python\", \"excel\", \"powe BI\")\n",
        "print(course[1:])"
      ],
      "metadata": {
        "colab": {
          "base_uri": "https://localhost:8080/"
        },
        "id": "ZKTrynXmNBqX",
        "outputId": "3805ac66-e1ec-4a6d-a7bd-0c718163708d"
      },
      "execution_count": 5,
      "outputs": [
        {
          "output_type": "stream",
          "name": "stdout",
          "text": [
            "('excel', 'powe BI')\n"
          ]
        }
      ]
    },
    {
      "cell_type": "code",
      "source": [
        "course=(\"python\", \"excel\", \"powe BI\")\n",
        "if \"excel\" in course:\n",
        "  print(\"Yes\")\n",
        "else:\n",
        "  print(\"No\")"
      ],
      "metadata": {
        "colab": {
          "base_uri": "https://localhost:8080/"
        },
        "id": "tw2I4CigNGe0",
        "outputId": "3fc35bba-7453-4770-af7e-1f66755a9aec"
      },
      "execution_count": 7,
      "outputs": [
        {
          "output_type": "stream",
          "name": "stdout",
          "text": [
            "Yes\n"
          ]
        }
      ]
    },
    {
      "cell_type": "code",
      "source": [
        "course=(\"python\", \"excel\", \"power BI\")\n",
        "\n",
        "answer=list(course)\n",
        "answer[2]=\"SQL\"\n",
        "\n",
        "answer=tuple(answer)\n",
        "print(answer)"
      ],
      "metadata": {
        "colab": {
          "base_uri": "https://localhost:8080/"
        },
        "id": "WU5rw6z3NyQy",
        "outputId": "a4fa0f40-cdec-4104-ebc3-0b1af6ecd7e8"
      },
      "execution_count": 9,
      "outputs": [
        {
          "output_type": "stream",
          "name": "stdout",
          "text": [
            "('python', 'excel', 'SQL')\n"
          ]
        }
      ]
    },
    {
      "cell_type": "code",
      "source": [
        "course=(\"python\", \"excel\", \"power BI\")\n",
        "\n",
        "answer=list(course)\n",
        "answer.append(\"SQL\")\n",
        "\n",
        "answer=tuple(answer)\n",
        "print(answer)"
      ],
      "metadata": {
        "colab": {
          "base_uri": "https://localhost:8080/"
        },
        "id": "vHob6BWQOf4o",
        "outputId": "75040d5d-255a-4265-dbcc-154c9437f172"
      },
      "execution_count": 11,
      "outputs": [
        {
          "output_type": "stream",
          "name": "stdout",
          "text": [
            "('python', 'excel', 'power BI', 'SQL')\n"
          ]
        }
      ]
    },
    {
      "cell_type": "code",
      "source": [
        "course=(\"python\", \"excel\", \"power BI\")\n",
        "add=(\"SQL\",\"AI\")\n",
        "\n",
        "course+=add\n",
        "print(course)"
      ],
      "metadata": {
        "colab": {
          "base_uri": "https://localhost:8080/"
        },
        "id": "LYGIF4bzOmes",
        "outputId": "4a776e19-db6b-47d8-a18f-29d64e1a0b6f"
      },
      "execution_count": 12,
      "outputs": [
        {
          "output_type": "stream",
          "name": "stdout",
          "text": [
            "('python', 'excel', 'power BI', 'SQL', 'AI')\n"
          ]
        }
      ]
    },
    {
      "cell_type": "code",
      "source": [
        "course=(\"python\", \"excel\", \"power BI\")\n",
        "\n",
        "for i in course:\n",
        "  print(i)"
      ],
      "metadata": {
        "colab": {
          "base_uri": "https://localhost:8080/"
        },
        "id": "7cv7fxx9Pggp",
        "outputId": "fbed1c27-9a2f-4399-da88-3cdb577405b1"
      },
      "execution_count": 13,
      "outputs": [
        {
          "output_type": "stream",
          "name": "stdout",
          "text": [
            "python\n",
            "excel\n",
            "power BI\n"
          ]
        }
      ]
    },
    {
      "cell_type": "code",
      "source": [
        "course=(\"python\", \"excel\", \"power BI\")\n",
        "\n",
        "i=0\n",
        "while i<len(course):\n",
        "  print(course[i])\n",
        "  i+=1"
      ],
      "metadata": {
        "colab": {
          "base_uri": "https://localhost:8080/"
        },
        "id": "GnwqdZpaPvVt",
        "outputId": "6d7c3ea5-92b3-4f64-e579-5036cc1b3dff"
      },
      "execution_count": 16,
      "outputs": [
        {
          "output_type": "stream",
          "name": "stdout",
          "text": [
            "python\n",
            "excel\n",
            "power BI\n"
          ]
        }
      ]
    },
    {
      "cell_type": "code",
      "source": [],
      "metadata": {
        "id": "JAMxZBCGQHDm"
      },
      "execution_count": null,
      "outputs": []
    }
  ]
}