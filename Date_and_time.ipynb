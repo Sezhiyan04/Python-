{
  "nbformat": 4,
  "nbformat_minor": 0,
  "metadata": {
    "colab": {
      "provenance": []
    },
    "kernelspec": {
      "name": "python3",
      "display_name": "Python 3"
    },
    "language_info": {
      "name": "python"
    }
  },
  "cells": [
    {
      "cell_type": "code",
      "execution_count": 5,
      "metadata": {
        "colab": {
          "base_uri": "https://localhost:8080/"
        },
        "id": "CH31C40UQipv",
        "outputId": "28f6e4a5-2390-4051-9172-ac5f4e6e7c87"
      },
      "outputs": [
        {
          "output_type": "stream",
          "name": "stdout",
          "text": [
            "2025-10-27 10:55:44.606775\n"
          ]
        }
      ],
      "source": [
        "#date & time\n",
        "import datetime\n",
        "\n",
        "answer = datetime.datetime.now()\n",
        "print(answer)"
      ]
    },
    {
      "cell_type": "code",
      "source": [
        "print(answer.year)\n",
        "print(answer.month)\n",
        "print(answer.day)"
      ],
      "metadata": {
        "colab": {
          "base_uri": "https://localhost:8080/"
        },
        "id": "6-ab7KS2T3LV",
        "outputId": "61700b79-feb6-4b8b-d779-c9c1d080138b"
      },
      "execution_count": 6,
      "outputs": [
        {
          "output_type": "stream",
          "name": "stdout",
          "text": [
            "2025\n",
            "10\n",
            "27\n"
          ]
        }
      ]
    },
    {
      "cell_type": "code",
      "source": [
        "print(answer.strftime(\"%A\"))"
      ],
      "metadata": {
        "colab": {
          "base_uri": "https://localhost:8080/"
        },
        "id": "72_Yd2tAUAHn",
        "outputId": "a01b2231-5b71-4298-8f29-08576110db40"
      },
      "execution_count": 7,
      "outputs": [
        {
          "output_type": "stream",
          "name": "stdout",
          "text": [
            "Monday\n"
          ]
        }
      ]
    },
    {
      "cell_type": "code",
      "source": [
        "print(answer.strftime(\"%a\"))"
      ],
      "metadata": {
        "colab": {
          "base_uri": "https://localhost:8080/"
        },
        "id": "Y1qIjH5OUVA2",
        "outputId": "cca59382-d79f-44f5-a9d9-3a10e6bf7614"
      },
      "execution_count": 8,
      "outputs": [
        {
          "output_type": "stream",
          "name": "stdout",
          "text": [
            "Mon\n"
          ]
        }
      ]
    },
    {
      "cell_type": "code",
      "source": [
        "print(answer.strftime(\"%w\"))"
      ],
      "metadata": {
        "colab": {
          "base_uri": "https://localhost:8080/"
        },
        "id": "IAg8rFsfUZKP",
        "outputId": "b7b59c6c-33fd-4d4a-df23-57d989c2ca73"
      },
      "execution_count": 9,
      "outputs": [
        {
          "output_type": "stream",
          "name": "stdout",
          "text": [
            "1\n"
          ]
        }
      ]
    },
    {
      "cell_type": "code",
      "source": [
        "print(answer.strftime(\"%D\"))"
      ],
      "metadata": {
        "colab": {
          "base_uri": "https://localhost:8080/"
        },
        "id": "AzGaySSXUeck",
        "outputId": "fbd8d5a4-0d70-4b6f-9d2e-9df5700ea5ef"
      },
      "execution_count": 12,
      "outputs": [
        {
          "output_type": "stream",
          "name": "stdout",
          "text": [
            "10/27/25\n"
          ]
        }
      ]
    },
    {
      "cell_type": "code",
      "source": [
        "print(answer.strftime(\"%d\"))"
      ],
      "metadata": {
        "colab": {
          "base_uri": "https://localhost:8080/"
        },
        "id": "UKXw11ZmUm_9",
        "outputId": "378bf59a-3fb0-4613-cf6a-7a23fedc35c7"
      },
      "execution_count": 13,
      "outputs": [
        {
          "output_type": "stream",
          "name": "stdout",
          "text": [
            "27\n"
          ]
        }
      ]
    },
    {
      "cell_type": "code",
      "source": [
        "print(answer.strftime(\"%m\"))"
      ],
      "metadata": {
        "colab": {
          "base_uri": "https://localhost:8080/"
        },
        "id": "ARCg_wl1Uo5H",
        "outputId": "4a4e3b7b-db2c-4801-bc01-6abbc368d129"
      },
      "execution_count": 14,
      "outputs": [
        {
          "output_type": "stream",
          "name": "stdout",
          "text": [
            "10\n"
          ]
        }
      ]
    },
    {
      "cell_type": "code",
      "source": [
        "print(answer.strftime(\"%B\"))"
      ],
      "metadata": {
        "colab": {
          "base_uri": "https://localhost:8080/"
        },
        "id": "QeHQ1GRZUs5d",
        "outputId": "8f4030e8-100c-4c9b-87ca-6eb907b93a5b"
      },
      "execution_count": 18,
      "outputs": [
        {
          "output_type": "stream",
          "name": "stdout",
          "text": [
            "October\n"
          ]
        }
      ]
    },
    {
      "cell_type": "code",
      "source": [
        "print(answer.strftime(\"%b\"))"
      ],
      "metadata": {
        "colab": {
          "base_uri": "https://localhost:8080/"
        },
        "id": "oyDYcw64U1ju",
        "outputId": "8ae429df-9270-4367-c25a-9b405d9faae8"
      },
      "execution_count": 17,
      "outputs": [
        {
          "output_type": "stream",
          "name": "stdout",
          "text": [
            "Oct\n"
          ]
        }
      ]
    },
    {
      "cell_type": "code",
      "source": [
        "print(answer.strftime(\"%Y\"))"
      ],
      "metadata": {
        "colab": {
          "base_uri": "https://localhost:8080/"
        },
        "id": "3CbD4CPsU53n",
        "outputId": "48c8add2-3e5b-43f6-9309-2f16d10ef11d"
      },
      "execution_count": 20,
      "outputs": [
        {
          "output_type": "stream",
          "name": "stdout",
          "text": [
            "2025\n"
          ]
        }
      ]
    },
    {
      "cell_type": "code",
      "source": [
        "print(answer.strftime(\"%y\"))"
      ],
      "metadata": {
        "colab": {
          "base_uri": "https://localhost:8080/"
        },
        "id": "A7FidBrIU8uu",
        "outputId": "667f13bf-f5a2-429c-a52a-11478a6dfddf"
      },
      "execution_count": 23,
      "outputs": [
        {
          "output_type": "stream",
          "name": "stdout",
          "text": [
            "25\n"
          ]
        }
      ]
    },
    {
      "cell_type": "code",
      "source": [
        "answer.strftime(\"%j\")"
      ],
      "metadata": {
        "colab": {
          "base_uri": "https://localhost:8080/",
          "height": 36
        },
        "id": "EakYeZ9XVF9I",
        "outputId": "c8f58bd2-2e09-40cf-ba78-b370084b3667"
      },
      "execution_count": 26,
      "outputs": [
        {
          "output_type": "execute_result",
          "data": {
            "text/plain": [
              "'300'"
            ],
            "application/vnd.google.colaboratory.intrinsic+json": {
              "type": "string"
            }
          },
          "metadata": {},
          "execution_count": 26
        }
      ]
    },
    {
      "cell_type": "code",
      "source": [
        "answer.strftime(\"%U\")"
      ],
      "metadata": {
        "colab": {
          "base_uri": "https://localhost:8080/",
          "height": 36
        },
        "id": "lVDVyFt0VP-t",
        "outputId": "847cf4b7-2e1c-4c54-e81b-6edada080995"
      },
      "execution_count": 28,
      "outputs": [
        {
          "output_type": "execute_result",
          "data": {
            "text/plain": [
              "'43'"
            ],
            "application/vnd.google.colaboratory.intrinsic+json": {
              "type": "string"
            }
          },
          "metadata": {},
          "execution_count": 28
        }
      ]
    },
    {
      "cell_type": "code",
      "source": [
        "answer.strftime(\"%c\")"
      ],
      "metadata": {
        "colab": {
          "base_uri": "https://localhost:8080/",
          "height": 36
        },
        "id": "CnGjrXOLVUTY",
        "outputId": "ccb18cbf-7b19-4c05-a41c-b7469551165d"
      },
      "execution_count": 29,
      "outputs": [
        {
          "output_type": "execute_result",
          "data": {
            "text/plain": [
              "'Mon Oct 27 10:55:44 2025'"
            ],
            "application/vnd.google.colaboratory.intrinsic+json": {
              "type": "string"
            }
          },
          "metadata": {},
          "execution_count": 29
        }
      ]
    },
    {
      "cell_type": "code",
      "source": [
        "import calendar\n",
        "\n",
        "year=2004\n",
        "month=8\n",
        "\n",
        "print(calendar.month(year,month))"
      ],
      "metadata": {
        "colab": {
          "base_uri": "https://localhost:8080/"
        },
        "id": "7ZXysEtKVdzF",
        "outputId": "b512d817-c075-48a8-df42-e486c92947af"
      },
      "execution_count": 34,
      "outputs": [
        {
          "output_type": "stream",
          "name": "stdout",
          "text": [
            "    August 2004\n",
            "Mo Tu We Th Fr Sa Su\n",
            "                   1\n",
            " 2  3  4  5  6  7  8\n",
            " 9 10 11 12 13 14 15\n",
            "16 17 18 19 20 21 22\n",
            "23 24 25 26 27 28 29\n",
            "30 31\n",
            "\n"
          ]
        }
      ]
    },
    {
      "cell_type": "code",
      "source": [
        "import calendar\n",
        "\n",
        "year=2025\n",
        "month=10\n",
        "print(calendar.month(year,month))"
      ],
      "metadata": {
        "colab": {
          "base_uri": "https://localhost:8080/"
        },
        "id": "XDvy0FsZWBrI",
        "outputId": "0634ff27-5b0f-4c0f-d303-5167d955dbbe"
      },
      "execution_count": 36,
      "outputs": [
        {
          "output_type": "stream",
          "name": "stdout",
          "text": [
            "    October 2025\n",
            "Mo Tu We Th Fr Sa Su\n",
            "       1  2  3  4  5\n",
            " 6  7  8  9 10 11 12\n",
            "13 14 15 16 17 18 19\n",
            "20 21 22 23 24 25 26\n",
            "27 28 29 30 31\n",
            "\n"
          ]
        }
      ]
    }
  ]
}