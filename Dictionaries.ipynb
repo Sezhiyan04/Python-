{
  "nbformat": 4,
  "nbformat_minor": 0,
  "metadata": {
    "colab": {
      "provenance": []
    },
    "kernelspec": {
      "name": "python3",
      "display_name": "Python 3"
    },
    "language_info": {
      "name": "python"
    }
  },
  "cells": [
    {
      "cell_type": "code",
      "execution_count": 7,
      "metadata": {
        "colab": {
          "base_uri": "https://localhost:8080/"
        },
        "id": "1cQx-h-V0dX1",
        "outputId": "eb491d70-50f5-496f-c5ac-b016e9f3f41b"
      },
      "outputs": [
        {
          "output_type": "stream",
          "name": "stdout",
          "text": [
            "{'name': 'Sezhiyan', 'age': 21, 'year': 2004}\n",
            "<class 'dict'>\n",
            "3\n"
          ]
        }
      ],
      "source": [
        "# Dictionaries\n",
        "\n",
        "person={\n",
        "    \"name\":\"Sezhiyan\",\n",
        "    \"age\":21,\n",
        "    \"year\":2004\n",
        "}\n",
        "print(person)\n",
        "print(type(person))\n",
        "print(len(person))"
      ]
    },
    {
      "cell_type": "code",
      "source": [
        "person={\n",
        "    \"name\":\"Sezhiyan\",\n",
        "    \"age\":21,\n",
        "    \"year\":2004\n",
        "}\n",
        "print(person[\"name\"])\n",
        "print(person[\"age\"])\n",
        "print(person[\"year\"])"
      ],
      "metadata": {
        "colab": {
          "base_uri": "https://localhost:8080/"
        },
        "id": "uOpJ7oIQ8DBu",
        "outputId": "62070c43-3708-4ec9-8b42-53bfa6b16572"
      },
      "execution_count": 9,
      "outputs": [
        {
          "output_type": "stream",
          "name": "stdout",
          "text": [
            "Sezhiyan\n",
            "21\n",
            "2004\n"
          ]
        }
      ]
    },
    {
      "cell_type": "code",
      "source": [
        "# keys\n",
        "person={\n",
        "    \"name\":\"Sezhiyan\",\n",
        "    \"age\":21,\n",
        "    \"year\":2004,\n",
        "    \"skills\":{\"python\",\"Excel\",\"power BI\",\"SQL\"}\n",
        "}\n",
        "details=person.keys()\n",
        "print(details)\n"
      ],
      "metadata": {
        "colab": {
          "base_uri": "https://localhost:8080/"
        },
        "id": "q-uZBZRE8mms",
        "outputId": "74378598-af30-4545-bc5d-2dc692db2d97"
      },
      "execution_count": 22,
      "outputs": [
        {
          "output_type": "stream",
          "name": "stdout",
          "text": [
            "dict_keys(['name', 'age', 'year', 'skills'])\n"
          ]
        }
      ]
    },
    {
      "cell_type": "code",
      "source": [
        "# values\n",
        "person={\n",
        "    \"name\":\"Sezhiyan\",\n",
        "    \"age\":21,\n",
        "    \"year\":2004,\n",
        "    \"skills\":{\"python\",\"Excel\",\"power BI\",\"SQL\"}\n",
        "}\n",
        "details=person.values()\n",
        "print(details)"
      ],
      "metadata": {
        "colab": {
          "base_uri": "https://localhost:8080/"
        },
        "id": "kq1zMmu49Inw",
        "outputId": "6239b241-cda8-4167-f282-397868beb0d5"
      },
      "execution_count": 23,
      "outputs": [
        {
          "output_type": "stream",
          "name": "stdout",
          "text": [
            "dict_values(['Sezhiyan', 21, 2004, {'power BI', 'Excel', 'python', 'SQL'}])\n"
          ]
        }
      ]
    },
    {
      "cell_type": "code",
      "source": [
        "# items\n",
        "person={\n",
        "    \"name\":\"Sezhiyan\",\n",
        "    \"age\":21,\n",
        "    \"year\":2004,\n",
        "    \"skills\":{\"python\",\"Excel\",\"power BI\",\"SQL\"}\n",
        "}\n",
        "details=person.items()\n",
        "print(details)"
      ],
      "metadata": {
        "colab": {
          "base_uri": "https://localhost:8080/"
        },
        "id": "xUbh28Vu9Mhg",
        "outputId": "39ae113b-6e9a-4815-c5b4-01cfa55459fd"
      },
      "execution_count": 24,
      "outputs": [
        {
          "output_type": "stream",
          "name": "stdout",
          "text": [
            "dict_items([('name', 'Sezhiyan'), ('age', 21), ('year', 2004), ('skills', {'power BI', 'Excel', 'python', 'SQL'})])\n"
          ]
        }
      ]
    },
    {
      "cell_type": "code",
      "source": [
        "# update\n",
        "person={\n",
        "    \"name\":\"Sezhiyan\",\n",
        "    \"age\":21,\n",
        "    \"year\":2004,\n",
        "    \"skills\":{\"python\",\"Excel\",\"power BI\",\"SQL\"}\n",
        "}\n",
        "person.update({\"BG\":\"B+\"})\n",
        "print(person)"
      ],
      "metadata": {
        "colab": {
          "base_uri": "https://localhost:8080/"
        },
        "id": "uDiEmLi19Pr8",
        "outputId": "23798144-2ebd-4722-e359-069fc3a302d8"
      },
      "execution_count": 25,
      "outputs": [
        {
          "output_type": "stream",
          "name": "stdout",
          "text": [
            "{'name': 'Sezhiyan', 'age': 21, 'year': 2004, 'skills': {'power BI', 'Excel', 'python', 'SQL'}, 'BG': 'B+'}\n"
          ]
        }
      ]
    },
    {
      "cell_type": "code",
      "source": [
        "person={\n",
        "    \"name\":\"Sezhiyan\",\n",
        "    \"age\":21,\n",
        "    \"year\":2004,\n",
        "    \"skills\":{\"python\",\"Excel\",\"power BI\",\"SQL\"}\n",
        "}\n",
        "person[\"BG\"]=\"B+\"\n",
        "print(person)"
      ],
      "metadata": {
        "colab": {
          "base_uri": "https://localhost:8080/"
        },
        "id": "P2fgI6Wu_OxO",
        "outputId": "400614b3-a53e-47e8-f484-f6d4cc24e178"
      },
      "execution_count": 26,
      "outputs": [
        {
          "output_type": "stream",
          "name": "stdout",
          "text": [
            "{'name': 'Sezhiyan', 'age': 21, 'year': 2004, 'skills': {'power BI', 'Excel', 'python', 'SQL'}, 'BG': 'B+'}\n"
          ]
        }
      ]
    },
    {
      "cell_type": "code",
      "source": [
        "# pop(), popitem()\n",
        "person={\n",
        "    \"name\":\"Sezhiyan\",\n",
        "    \"age\":21,\n",
        "    \"year\":2004,\n",
        "    \"skills\":{\"python\",\"Excel\",\"power BI\",\"SQL\"}\n",
        "}\n",
        "person.pop(\"skills\")\n",
        "print(person)"
      ],
      "metadata": {
        "colab": {
          "base_uri": "https://localhost:8080/"
        },
        "id": "KS3Sbye4_geO",
        "outputId": "2fb501d7-329b-4048-f243-8f351ecae2d0"
      },
      "execution_count": 27,
      "outputs": [
        {
          "output_type": "stream",
          "name": "stdout",
          "text": [
            "{'name': 'Sezhiyan', 'age': 21, 'year': 2004}\n"
          ]
        }
      ]
    },
    {
      "cell_type": "code",
      "source": [
        "person={\n",
        "    \"name\":\"Sezhiyan\",\n",
        "    \"age\":21,\n",
        "    \"year\":2004,\n",
        "    \"skills\":{\"python\",\"Excel\",\"power BI\",\"SQL\"}\n",
        "}\n",
        "person.popitem()\n",
        "print(person)"
      ],
      "metadata": {
        "colab": {
          "base_uri": "https://localhost:8080/"
        },
        "id": "xRxryYrGAIZn",
        "outputId": "217b1f58-bde4-4407-c12f-a19991024996"
      },
      "execution_count": 28,
      "outputs": [
        {
          "output_type": "stream",
          "name": "stdout",
          "text": [
            "{'name': 'Sezhiyan', 'age': 21, 'year': 2004}\n"
          ]
        }
      ]
    },
    {
      "cell_type": "code",
      "source": [
        "#delect\n",
        "person={\n",
        "    \"name\":\"Sezhiyan\",\n",
        "    \"age\":21,\n",
        "    \"year\":2004,\n",
        "    \"skills\":{\"python\",\"Excel\",\"power BI\",\"SQL\"}\n",
        "}\n",
        "del person[\"skills\"]\n",
        "print(person)"
      ],
      "metadata": {
        "colab": {
          "base_uri": "https://localhost:8080/"
        },
        "id": "L5FFCCukAPuY",
        "outputId": "eebabc0a-ff5b-448d-9ddb-ac49c625f76e"
      },
      "execution_count": 32,
      "outputs": [
        {
          "output_type": "stream",
          "name": "stdout",
          "text": [
            "{'name': 'Sezhiyan', 'age': 21, 'year': 2004}\n"
          ]
        }
      ]
    },
    {
      "cell_type": "code",
      "source": [
        "#loop in Dictionaries\n",
        "person={\n",
        "    \"name\":\"Sezhiyan\",\n",
        "    \"age\":21,\n",
        "    \"year\":2004,\n",
        "    \"skills\":{\"python\",\"Excel\",\"power BI\",\"SQL\"}\n",
        "}\n",
        "\n",
        "for p in person:\n",
        "  print(p)"
      ],
      "metadata": {
        "colab": {
          "base_uri": "https://localhost:8080/"
        },
        "id": "7iEso0P4Anut",
        "outputId": "f50a2562-0d31-4854-a5f0-f3bf5b12ad36"
      },
      "execution_count": 33,
      "outputs": [
        {
          "output_type": "stream",
          "name": "stdout",
          "text": [
            "name\n",
            "age\n",
            "year\n",
            "skills\n"
          ]
        }
      ]
    },
    {
      "cell_type": "code",
      "source": [
        "person={\n",
        "    \"name\":\"Sezhiyan\",\n",
        "    \"age\":21,\n",
        "    \"year\":2004,\n",
        "    \"skills\":{\"python\",\"Excel\",\"power BI\",\"SQL\"}\n",
        "}\n",
        "\n",
        "for p in person:\n",
        "  print(person[p])"
      ],
      "metadata": {
        "colab": {
          "base_uri": "https://localhost:8080/"
        },
        "id": "SCvxbTGjA_uz",
        "outputId": "643bdd3a-8abd-4178-eaf3-1a0418f6bfdb"
      },
      "execution_count": 37,
      "outputs": [
        {
          "output_type": "stream",
          "name": "stdout",
          "text": [
            "Sezhiyan\n",
            "21\n",
            "2004\n",
            "{'power BI', 'Excel', 'python', 'SQL'}\n"
          ]
        }
      ]
    },
    {
      "cell_type": "code",
      "source": [
        "person={\n",
        "    \"name\":\"Sezhiyan\",\n",
        "    \"age\":21,\n",
        "    \"year\":2004,\n",
        "    \"skills\":{\"python\",\"Excel\",\"power BI\",\"SQL\"}\n",
        "}\n",
        "\n",
        "for p in person.keys():\n",
        "  print(p)"
      ],
      "metadata": {
        "colab": {
          "base_uri": "https://localhost:8080/"
        },
        "id": "g0sPWfLSBRFn",
        "outputId": "00d6bd01-acab-42ae-f1f4-e6f616ff2896"
      },
      "execution_count": 38,
      "outputs": [
        {
          "output_type": "stream",
          "name": "stdout",
          "text": [
            "name\n",
            "age\n",
            "year\n",
            "skills\n"
          ]
        }
      ]
    },
    {
      "cell_type": "code",
      "source": [
        "person={\n",
        "    \"name\":\"Sezhiyan\",\n",
        "    \"age\":21,\n",
        "    \"year\":2004,\n",
        "    \"skills\":{\"python\",\"Excel\",\"power BI\",\"SQL\"}\n",
        "}\n",
        "\n",
        "for p in person.values():\n",
        "  print(p)"
      ],
      "metadata": {
        "colab": {
          "base_uri": "https://localhost:8080/"
        },
        "id": "xUz6Ao3yBU7I",
        "outputId": "00f4e76a-b0a4-4437-d65d-ecb163750eba"
      },
      "execution_count": 40,
      "outputs": [
        {
          "output_type": "stream",
          "name": "stdout",
          "text": [
            "Sezhiyan\n",
            "21\n",
            "2004\n",
            "{'power BI', 'Excel', 'python', 'SQL'}\n"
          ]
        }
      ]
    },
    {
      "cell_type": "code",
      "source": [
        "person={\n",
        "    \"name\":\"Sezhiyan\",\n",
        "    \"age\":21,\n",
        "    \"year\":2004,\n",
        "    \"skills\":{\"python\",\"Excel\",\"power BI\",\"SQL\"}\n",
        "}\n",
        "\n",
        "for p in person.items():\n",
        "  print(p)"
      ],
      "metadata": {
        "colab": {
          "base_uri": "https://localhost:8080/"
        },
        "id": "TphOjg5xBbMK",
        "outputId": "be8f1708-b865-4779-bddd-7485412802a7"
      },
      "execution_count": 41,
      "outputs": [
        {
          "output_type": "stream",
          "name": "stdout",
          "text": [
            "('name', 'Sezhiyan')\n",
            "('age', 21)\n",
            "('year', 2004)\n",
            "('skills', {'power BI', 'Excel', 'python', 'SQL'})\n"
          ]
        }
      ]
    }
  ]
}