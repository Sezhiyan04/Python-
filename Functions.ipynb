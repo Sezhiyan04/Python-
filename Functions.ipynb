{
  "nbformat": 4,
  "nbformat_minor": 0,
  "metadata": {
    "colab": {
      "provenance": []
    },
    "kernelspec": {
      "name": "python3",
      "display_name": "Python 3"
    },
    "language_info": {
      "name": "python"
    }
  },
  "cells": [
    {
      "cell_type": "code",
      "source": [
        "# Functions\n",
        "def display():\n",
        "  print(\"welcome to python\")\n",
        "display()"
      ],
      "metadata": {
        "id": "ZwHWvy2JvcmA",
        "colab": {
          "base_uri": "https://localhost:8080/"
        },
        "outputId": "d8ebea63-def9-4d89-8818-62e9ef277c96"
      },
      "execution_count": 5,
      "outputs": [
        {
          "output_type": "stream",
          "name": "stdout",
          "text": [
            "welcome to python\n"
          ]
        }
      ]
    },
    {
      "cell_type": "code",
      "source": [
        "# without parameters and without return type\n",
        "def add():\n",
        "  a=15\n",
        "  b=20\n",
        "  c=a+b\n",
        "  print(c)\n",
        "add()"
      ],
      "metadata": {
        "colab": {
          "base_uri": "https://localhost:8080/"
        },
        "id": "yfA7YRG2AN5u",
        "outputId": "6f63ac6f-df43-4699-fff3-c3e3429bd843"
      },
      "execution_count": 9,
      "outputs": [
        {
          "output_type": "stream",
          "name": "stdout",
          "text": [
            "35\n"
          ]
        }
      ]
    },
    {
      "cell_type": "code",
      "source": [
        "# with parameters and without return type\n",
        "def add(a,b):\n",
        "  sum=a+b\n",
        "  avg=(sum/2)\n",
        "  print(sum)\n",
        "  print(avg)\n",
        "add(38,28)"
      ],
      "metadata": {
        "colab": {
          "base_uri": "https://localhost:8080/"
        },
        "id": "81VNow3nA9zS",
        "outputId": "bce6ca8c-ab85-47d8-d7b4-3aa04a30ba87"
      },
      "execution_count": 10,
      "outputs": [
        {
          "output_type": "stream",
          "name": "stdout",
          "text": [
            "66\n",
            "33.0\n"
          ]
        }
      ]
    },
    {
      "cell_type": "code",
      "source": [
        "# without paramrters and with retun type\n",
        "\n",
        "def add():\n",
        "  a=45\n",
        "  b=36\n",
        "  return(a*b)\n",
        "print(add())"
      ],
      "metadata": {
        "colab": {
          "base_uri": "https://localhost:8080/"
        },
        "id": "5I5nCglgB-2m",
        "outputId": "286281a4-1b31-47e5-d80a-c03a7d558ae8"
      },
      "execution_count": 15,
      "outputs": [
        {
          "output_type": "stream",
          "name": "stdout",
          "text": [
            "1620\n"
          ]
        }
      ]
    },
    {
      "cell_type": "code",
      "source": [
        "# with parameters and with return type\n",
        "def add(a,b,c,d):\n",
        "  total = a+b*c-d\n",
        "  return total\n",
        "print(add(20,12,10,50))"
      ],
      "metadata": {
        "colab": {
          "base_uri": "https://localhost:8080/"
        },
        "id": "2jVdBkMoCi-R",
        "outputId": "4f43d85b-bef4-4892-ab1c-95d60317d1b0"
      },
      "execution_count": 20,
      "outputs": [
        {
          "output_type": "stream",
          "name": "stdout",
          "text": [
            "90\n"
          ]
        }
      ]
    },
    {
      "cell_type": "code",
      "source": [
        "# * arguments\n",
        "def school(*classes):\n",
        "  print( classes )\n",
        "  print(classes[0])\n",
        "  print(classes[1])\n",
        "  print(classes[2])\n",
        "school(\"10a\",\"10b\",\"10c\")"
      ],
      "metadata": {
        "colab": {
          "base_uri": "https://localhost:8080/"
        },
        "id": "hwb70faWDe7o",
        "outputId": "370c4aaa-b6b2-4edd-c1c1-450040140e76"
      },
      "execution_count": 34,
      "outputs": [
        {
          "output_type": "stream",
          "name": "stdout",
          "text": [
            "('10a', '10b', '10c')\n",
            "10a\n",
            "10b\n",
            "10c\n"
          ]
        }
      ]
    },
    {
      "cell_type": "code",
      "source": [
        "# keyword arguments\n",
        "def students(s1,s2,s3,s4):\n",
        "  print(s1,s2,s3,s4)\n",
        "  print(s1)\n",
        "  print(s2)\n",
        "  print(s3)\n",
        "  print(s4)\n",
        "students(s1=\"raj\",s2=\"sezhiyan\",s3=\"balaji\",s4=\"sabir\")"
      ],
      "metadata": {
        "colab": {
          "base_uri": "https://localhost:8080/"
        },
        "id": "0pj8nPuxECqZ",
        "outputId": "27597e1f-b7e1-48e6-b225-6b58b1fffaad"
      },
      "execution_count": 37,
      "outputs": [
        {
          "output_type": "stream",
          "name": "stdout",
          "text": [
            "raj sezhiyan balaji sabir\n",
            "raj\n",
            "sezhiyan\n",
            "balaji\n",
            "sabir\n"
          ]
        }
      ]
    },
    {
      "cell_type": "code",
      "source": [
        "# **kwargs - Arbitrary Keyword Arguments\n",
        "def classes(**subject):\n",
        "  print(subject)\n",
        "  print(subject[\"a\"])\n",
        "  print(subject[\"b\"])\n",
        "  print(subject[\"c\"])\n",
        "  print(subject[\"d\"])\n",
        "  print(subject[\"e\"])\n",
        "classes(a=\"Tamil\",b=\"English\",c=\"maths\",d=\"Science\",e=\"Social\")"
      ],
      "metadata": {
        "colab": {
          "base_uri": "https://localhost:8080/"
        },
        "id": "LTYpY3-6HEdz",
        "outputId": "59c499a0-4632-4e6e-f294-714ccbed14f4"
      },
      "execution_count": 39,
      "outputs": [
        {
          "output_type": "stream",
          "name": "stdout",
          "text": [
            "{'a': 'Tamil', 'b': 'English', 'c': 'maths', 'd': 'Science', 'e': 'Social'}\n",
            "Tamil\n",
            "English\n",
            "maths\n",
            "Science\n",
            "Social\n"
          ]
        }
      ]
    },
    {
      "cell_type": "code",
      "source": [
        "# Default parameter\n",
        "def display(User=\"Guest\"):\n",
        "  print(\"Hello :\" +User)\n",
        "display(\"sezhiyan\")\n",
        "display(\"venkat\")\n",
        "display()\n",
        "display(\"abdul\")\n",
        "display()"
      ],
      "metadata": {
        "colab": {
          "base_uri": "https://localhost:8080/"
        },
        "id": "J31AwIkzIabS",
        "outputId": "6090e4b5-3cbe-47b6-d103-0458b5886361"
      },
      "execution_count": 40,
      "outputs": [
        {
          "output_type": "stream",
          "name": "stdout",
          "text": [
            "Hello :sezhiyan\n",
            "Hello :venkat\n",
            "Hello :Guest\n",
            "Hello :abdul\n",
            "Hello :Guest\n"
          ]
        }
      ]
    },
    {
      "cell_type": "code",
      "source": [
        "# Recursion\n",
        "def factorial(s):\n",
        "  if s==1:\n",
        "    return 1\n",
        "  else:\n",
        "    return s*factorial(s-1)\n",
        "print(factorial(8))"
      ],
      "metadata": {
        "colab": {
          "base_uri": "https://localhost:8080/"
        },
        "id": "lTTA-79sI6Zp",
        "outputId": "d67faaab-d2ee-448e-fef7-4302d1b1dc1d"
      },
      "execution_count": 44,
      "outputs": [
        {
          "output_type": "stream",
          "name": "stdout",
          "text": [
            "40320\n"
          ]
        }
      ]
    },
    {
      "cell_type": "code",
      "source": [
        "# Sum of Natural Numbers using Recursion\n",
        "def sum(s):\n",
        "  if s==0:\n",
        "    return 0\n",
        "  else:\n",
        "    return s+sum(s-1)\n",
        "print(sum(20))"
      ],
      "metadata": {
        "colab": {
          "base_uri": "https://localhost:8080/"
        },
        "id": "yapt0grgJo1R",
        "outputId": "0e986417-d6b8-4bdf-f7ea-9e8c10f54877"
      },
      "execution_count": 46,
      "outputs": [
        {
          "output_type": "stream",
          "name": "stdout",
          "text": [
            "210\n"
          ]
        }
      ]
    }
  ]
}