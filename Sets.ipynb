{
  "nbformat": 4,
  "nbformat_minor": 0,
  "metadata": {
    "colab": {
      "provenance": []
    },
    "kernelspec": {
      "name": "python3",
      "display_name": "Python 3"
    },
    "language_info": {
      "name": "python"
    }
  },
  "cells": [
    {
      "cell_type": "code",
      "execution_count": null,
      "metadata": {
        "colab": {
          "base_uri": "https://localhost:8080/"
        },
        "id": "lS_Yuu6ZTjuK",
        "outputId": "41e9f61f-b83f-4573-db83-3e690437a4b5"
      },
      "outputs": [
        {
          "output_type": "stream",
          "name": "stdout",
          "text": [
            "{'Excel', 'java', 'DV', 'python', 'DE'}\n",
            "<class 'set'>\n",
            "5\n"
          ]
        }
      ],
      "source": [
        "# Sets\n",
        "\n",
        "course={\"python\",\"java\",\"DE\",\"DV\",\"Excel\"}\n",
        "print(course)\n",
        "print(type(course))\n",
        "print(len(course))"
      ]
    },
    {
      "cell_type": "code",
      "source": [
        "# set() constructor\n",
        "\n",
        "course=set((\"python\",\"java\",\"DE\",\"DV\",\"Excel\"))\n",
        "print(course)\n",
        "print(type(course))"
      ],
      "metadata": {
        "colab": {
          "base_uri": "https://localhost:8080/"
        },
        "id": "b9PPmVV9i9Lv",
        "outputId": "2035aa3f-0f30-4658-bf30-8ad6428c1df2"
      },
      "execution_count": null,
      "outputs": [
        {
          "output_type": "stream",
          "name": "stdout",
          "text": [
            "{'Excel', 'DV', 'DE', 'java', 'python'}\n",
            "<class 'set'>\n"
          ]
        }
      ]
    },
    {
      "cell_type": "code",
      "source": [
        "#add\n",
        "course={\"python\",\"java\",\"DE\",\"DV\",\"Excel\"}\n",
        "\n",
        "course.add(\"java script\")\n",
        "print(course)"
      ],
      "metadata": {
        "colab": {
          "base_uri": "https://localhost:8080/"
        },
        "id": "OcfuVAH2tXhQ",
        "outputId": "cb9fe5a0-b0a9-476c-f8e9-dc680ddc01ad"
      },
      "execution_count": 1,
      "outputs": [
        {
          "output_type": "stream",
          "name": "stdout",
          "text": [
            "{'python', 'DV', 'DE', 'Excel', 'java script', 'java'}\n"
          ]
        }
      ]
    },
    {
      "cell_type": "code",
      "source": [
        "# remove\n",
        "course={\"python\",\"java\",\"DE\",\"DV\",\"Excel\",\"java script\"}\n",
        "\n",
        "course.remove(\"java script\")\n",
        "print(course)"
      ],
      "metadata": {
        "colab": {
          "base_uri": "https://localhost:8080/"
        },
        "id": "w87YXaIkt4nK",
        "outputId": "0783b3e8-362f-4d64-eb34-bc19a230e879"
      },
      "execution_count": 2,
      "outputs": [
        {
          "output_type": "stream",
          "name": "stdout",
          "text": [
            "{'python', 'DV', 'DE', 'Excel', 'java'}\n"
          ]
        }
      ]
    },
    {
      "cell_type": "code",
      "source": [
        "# discard\n",
        "course={\"python\",\"java\",\"DE\",\"DV\",\"Excel\",\"java script\"}\n",
        "\n",
        "course.discard(\"java script\")\n",
        "print(course)"
      ],
      "metadata": {
        "colab": {
          "base_uri": "https://localhost:8080/"
        },
        "id": "1itlvsTFuhcM",
        "outputId": "10eefa09-937a-46ab-ec6a-f206466a076a"
      },
      "execution_count": 3,
      "outputs": [
        {
          "output_type": "stream",
          "name": "stdout",
          "text": [
            "{'python', 'DV', 'DE', 'Excel', 'java'}\n"
          ]
        }
      ]
    },
    {
      "cell_type": "code",
      "source": [
        "# pop()\n",
        "course={\"python\",\"java\",\"DE\",\"DV\",\"Excel\",\"java script\"}\n",
        "\n",
        "course.pop()\n",
        "print(course)"
      ],
      "metadata": {
        "colab": {
          "base_uri": "https://localhost:8080/"
        },
        "id": "G_pb2u_uvdZr",
        "outputId": "003c61a1-aaf0-4497-d43b-8810098a5d04"
      },
      "execution_count": 4,
      "outputs": [
        {
          "output_type": "stream",
          "name": "stdout",
          "text": [
            "{'DV', 'DE', 'Excel', 'java script', 'java'}\n"
          ]
        }
      ]
    },
    {
      "cell_type": "code",
      "source": [
        "course={\"python\",\"java\",\"DE\",\"DV\",\"Excel\",\"java script\"}\n",
        "\n",
        "course.clear()\n",
        "print(course)"
      ],
      "metadata": {
        "colab": {
          "base_uri": "https://localhost:8080/"
        },
        "id": "JpUSQzMcvvV_",
        "outputId": "25c8ab90-1f43-4991-8025-19c55def20a5"
      },
      "execution_count": 8,
      "outputs": [
        {
          "output_type": "stream",
          "name": "stdout",
          "text": [
            "set()\n"
          ]
        }
      ]
    },
    {
      "cell_type": "code",
      "source": [
        "# join sets - union, \"|\",intersection(),difference,symmetric_differenc\n",
        "# union\n",
        "course={\"python\",\"java\",\"DE\",\"DV\",\"Excel\"}\n",
        "fees={20000,30000,10000,20000,10000}\n",
        "\n",
        "details=course.union(fees)\n",
        "print(details)"
      ],
      "metadata": {
        "colab": {
          "base_uri": "https://localhost:8080/"
        },
        "id": "qDWM8Am5v_j5",
        "outputId": "8c27d1cc-d0af-4245-ce92-c3b8ccf8ae53"
      },
      "execution_count": 11,
      "outputs": [
        {
          "output_type": "stream",
          "name": "stdout",
          "text": [
            "{'python', 'DV', 20000, 10000, 30000, 'DE', 'Excel', 'java'}\n"
          ]
        }
      ]
    },
    {
      "cell_type": "code",
      "source": [
        "course={\"python\",\"java\",\"DE\",\"DV\",\"Excel\"}\n",
        "fees={20000,30000,10000,20000,10000}\n",
        "\n",
        "details=course | fees\n",
        "print(details)"
      ],
      "metadata": {
        "colab": {
          "base_uri": "https://localhost:8080/"
        },
        "id": "F-6NVS7Xyo-V",
        "outputId": "3116483b-ebad-49f4-c998-c9f9fd40bf27"
      },
      "execution_count": 25,
      "outputs": [
        {
          "output_type": "stream",
          "name": "stdout",
          "text": [
            "{'python', 'DV', 20000, 10000, 30000, 'DE', 'Excel', 'java'}\n"
          ]
        }
      ]
    },
    {
      "cell_type": "code",
      "source": [
        "# Difference()\n",
        "course={\"python\",\"java\",\"DE\",\"DV\",\"Excel\",\"python\"}\n",
        "fees={20000,30000,10000,20000,10000,10000}\n",
        "\n",
        "course.difference(fees)\n",
        "print(course)"
      ],
      "metadata": {
        "colab": {
          "base_uri": "https://localhost:8080/"
        },
        "id": "qQIaxlCdyxt8",
        "outputId": "06df5247-6311-4d27-b91f-14cd3ab5ed0b"
      },
      "execution_count": 28,
      "outputs": [
        {
          "output_type": "stream",
          "name": "stdout",
          "text": [
            "{'python', 'DV', 'DE', 'Excel', 'java'}\n"
          ]
        }
      ]
    },
    {
      "cell_type": "code",
      "source": [
        "# symmetric_difference\n",
        "course={\"python\",\"java\",\"DE\",\"DV\",\"Excel\",\"python\"}\n",
        "fees={20000,30000,10000,20000,10000,10000}\n",
        "\n",
        "details=course.symmetric_difference(fees)\n",
        "print(details)"
      ],
      "metadata": {
        "colab": {
          "base_uri": "https://localhost:8080/"
        },
        "id": "NhXxrDfzz2k0",
        "outputId": "be3a8b80-819f-4224-c6d6-de080639d311"
      },
      "execution_count": 32,
      "outputs": [
        {
          "output_type": "stream",
          "name": "stdout",
          "text": [
            "{20000, 'DV', 'python', 'DE', 'Excel', 10000, 30000, 'java'}\n"
          ]
        }
      ]
    },
    {
      "cell_type": "code",
      "source": [
        "# loop in set\n",
        "\n",
        "course={\"python\",\"java\",\"DE\",\"DV\",\"Excel\"}\n",
        "\n",
        "for c in course:\n",
        "  print(c)"
      ],
      "metadata": {
        "colab": {
          "base_uri": "https://localhost:8080/"
        },
        "id": "2_6srWYRkTpV",
        "outputId": "3365f978-a47e-46e4-d1fb-345ad372a189"
      },
      "execution_count": null,
      "outputs": [
        {
          "output_type": "stream",
          "name": "stdout",
          "text": [
            "Excel\n",
            "java\n",
            "DV\n",
            "python\n",
            "DE\n"
          ]
        }
      ]
    }
  ]
}