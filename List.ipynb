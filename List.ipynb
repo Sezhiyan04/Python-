{
  "nbformat": 4,
  "nbformat_minor": 0,
  "metadata": {
    "colab": {
      "provenance": []
    },
    "kernelspec": {
      "name": "python3",
      "display_name": "Python 3"
    },
    "language_info": {
      "name": "python"
    }
  },
  "cells": [
    {
      "cell_type": "code",
      "execution_count": 1,
      "metadata": {
        "colab": {
          "base_uri": "https://localhost:8080/"
        },
        "id": "ysqRAv0zKQvD",
        "outputId": "dbc37645-25e4-4872-9d7b-abab4783bc0b"
      },
      "outputs": [
        {
          "output_type": "stream",
          "name": "stdout",
          "text": [
            "['python', 'DV', 'CS', 'Excel', 'Power BI', 'Java']\n"
          ]
        }
      ],
      "source": [
        "# List\n",
        "\n",
        "course=[\"python\", \"DV\",\"CS\",\"Excel\",\"Power BI\",\"Java\"]\n",
        "print(course)"
      ]
    },
    {
      "cell_type": "code",
      "source": [
        "course=[\"python\",12000,True,\"Java\",30000,True]\n",
        "print(course)"
      ],
      "metadata": {
        "colab": {
          "base_uri": "https://localhost:8080/"
        },
        "id": "mJ6J7lw3UDgF",
        "outputId": "448a6aa8-fd99-497a-c4eb-a18afc9c08cc"
      },
      "execution_count": 4,
      "outputs": [
        {
          "output_type": "stream",
          "name": "stdout",
          "text": [
            "['python', 12000, True, 'Java', 30000, True]\n"
          ]
        }
      ]
    },
    {
      "cell_type": "code",
      "source": [
        "# list contructor - list()\n",
        "\n",
        "course=list((\"python\", \"DV\",\"CS\",\"Excel\",\"Power BI\",\"Java\"))\n",
        "print(course)\n",
        "print(type(course))"
      ],
      "metadata": {
        "colab": {
          "base_uri": "https://localhost:8080/"
        },
        "id": "Dfabxw9pUgDy",
        "outputId": "c3b52012-6123-4d4b-82d4-a2ebec9d30ed"
      },
      "execution_count": 5,
      "outputs": [
        {
          "output_type": "stream",
          "name": "stdout",
          "text": [
            "['python', 'DV', 'CS', 'Excel', 'Power BI', 'Java']\n",
            "<class 'list'>\n"
          ]
        }
      ]
    },
    {
      "cell_type": "code",
      "source": [
        "course=[\"python\", \"DV\",\"CS\",\"Excel\",\"Power BI\",\"Java\"]\n",
        "print(course[0])\n",
        "print(course[1])\n",
        "print(course[2])\n",
        "print(course[3])\n",
        "print(course[4])\n",
        "print(course[5])"
      ],
      "metadata": {
        "colab": {
          "base_uri": "https://localhost:8080/"
        },
        "id": "VyX7t9ooXgDg",
        "outputId": "a172079b-5cc8-4cf1-8eeb-c71c0b3238da"
      },
      "execution_count": 7,
      "outputs": [
        {
          "output_type": "stream",
          "name": "stdout",
          "text": [
            "python\n",
            "DV\n",
            "CS\n",
            "Excel\n",
            "Power BI\n",
            "Java\n"
          ]
        }
      ]
    },
    {
      "cell_type": "code",
      "source": [
        "course=[\"python\", \"DV\",\"CS\",\"Excel\",\"Power BI\",\"Java\"]\n",
        "print(course[-1])\n",
        "print(course[-2])\n",
        "print(course[-3])\n",
        "print(course[-4])\n",
        "print(course[-5])\n",
        "print(course[-6])"
      ],
      "metadata": {
        "colab": {
          "base_uri": "https://localhost:8080/"
        },
        "id": "fclj-XZ-Xrcz",
        "outputId": "04c98805-055f-4b25-b5ed-99513e0094a7"
      },
      "execution_count": 8,
      "outputs": [
        {
          "output_type": "stream",
          "name": "stdout",
          "text": [
            "Java\n",
            "Power BI\n",
            "Excel\n",
            "CS\n",
            "DV\n",
            "python\n"
          ]
        }
      ]
    },
    {
      "cell_type": "code",
      "source": [
        "course=[\"python\", \"DV\",\"CS\",\"Excel\",\"Power BI\",\"Java\"]\n",
        "print(course[1:5])\n",
        "# 1>5 - 1,2,3,4"
      ],
      "metadata": {
        "colab": {
          "base_uri": "https://localhost:8080/"
        },
        "id": "oltTuyBAYgrZ",
        "outputId": "c4fb23e0-5620-4ca3-d36c-3e3f8e426d38"
      },
      "execution_count": 11,
      "outputs": [
        {
          "output_type": "stream",
          "name": "stdout",
          "text": [
            "['DV', 'CS', 'Excel', 'Power BI']\n"
          ]
        }
      ]
    },
    {
      "cell_type": "code",
      "source": [
        "print(course[:3])"
      ],
      "metadata": {
        "colab": {
          "base_uri": "https://localhost:8080/"
        },
        "id": "S9obwluiZHVp",
        "outputId": "d712e36c-e2c0-457b-f692-6173f7ad79c1"
      },
      "execution_count": 12,
      "outputs": [
        {
          "output_type": "stream",
          "name": "stdout",
          "text": [
            "['python', 'DV', 'CS']\n"
          ]
        }
      ]
    },
    {
      "cell_type": "code",
      "source": [
        "print(course[3:])"
      ],
      "metadata": {
        "colab": {
          "base_uri": "https://localhost:8080/"
        },
        "id": "figHNzcicHzI",
        "outputId": "54811d52-1609-4046-bc32-e4016c2ecfe0"
      },
      "execution_count": 13,
      "outputs": [
        {
          "output_type": "stream",
          "name": "stdout",
          "text": [
            "['Excel', 'Power BI', 'Java']\n"
          ]
        }
      ]
    },
    {
      "cell_type": "code",
      "source": [
        "course=[\"python\", \"DV\",\"CS\",\"Excel\",\"Power BI\",\"Java\"]\n",
        "print(course)\n",
        "course[2]=\"c++\"\n",
        "print(course)"
      ],
      "metadata": {
        "colab": {
          "base_uri": "https://localhost:8080/"
        },
        "id": "QFhwtv2VcMEW",
        "outputId": "b77101b7-f311-4906-802f-21b194d5d909"
      },
      "execution_count": 23,
      "outputs": [
        {
          "output_type": "stream",
          "name": "stdout",
          "text": [
            "['python', 'DV', 'CS', 'Excel', 'Power BI', 'Java']\n",
            "['python', 'DV', 'c++', 'Excel', 'Power BI', 'Java']\n"
          ]
        }
      ]
    },
    {
      "cell_type": "code",
      "source": [
        "course=[\"python\", \"DV\",\"CS\",\"Excel\",\"Power BI\",\"Java\"]\n",
        "print(course)\n",
        "course[2:5]=\"SQL\",\"DE\",\"Java script\"\n",
        "print(course)"
      ],
      "metadata": {
        "colab": {
          "base_uri": "https://localhost:8080/"
        },
        "id": "GpgajAbIc--2",
        "outputId": "c4d8123a-25c3-4c15-81a6-06497059c94b"
      },
      "execution_count": 26,
      "outputs": [
        {
          "output_type": "stream",
          "name": "stdout",
          "text": [
            "['python', 'DV', 'CS', 'Excel', 'Power BI', 'Java']\n",
            "['python', 'DV', 'SQL', 'DE', 'Java script', 'Java']\n"
          ]
        }
      ]
    },
    {
      "cell_type": "code",
      "source": [
        "# Insert\n",
        "\n",
        "course=[\"python\", \"DV\",\"CS\",\"Excel\",\"Power BI\",\"Java\"]\n",
        "course.insert(2,\"SQL\")\n",
        "print(course)"
      ],
      "metadata": {
        "colab": {
          "base_uri": "https://localhost:8080/"
        },
        "id": "OE1lCqSUdjH0",
        "outputId": "497c95ab-20e0-445f-fa43-2724fb6db943"
      },
      "execution_count": 28,
      "outputs": [
        {
          "output_type": "stream",
          "name": "stdout",
          "text": [
            "['python', 'DV', 'SQL', 'CS', 'Excel', 'Power BI', 'Java']\n"
          ]
        }
      ]
    },
    {
      "cell_type": "code",
      "source": [
        "# append\n",
        "\n",
        "course=[\"python\", \"DV\",\"CS\",\"Excel\",\"Power BI\",\"Java\"]\n",
        "course.append(\"SQL\")\n",
        "print(course)"
      ],
      "metadata": {
        "colab": {
          "base_uri": "https://localhost:8080/"
        },
        "id": "qYw91HGXeRF5",
        "outputId": "09e7e55f-ae2d-4a5d-9c6d-386163861ed5"
      },
      "execution_count": 29,
      "outputs": [
        {
          "output_type": "stream",
          "name": "stdout",
          "text": [
            "['python', 'DV', 'CS', 'Excel', 'Power BI', 'Java', 'SQL']\n"
          ]
        }
      ]
    },
    {
      "cell_type": "code",
      "source": [
        "# extend\n",
        "\n",
        "C1=[\"python\", \"DV\",\"CS\",\"Excel\",\"Power BI\",\"Java\"]\n",
        "C2=[\"SQL\",\"DE\",\"Java script\"]\n",
        "C1.extend(C2)\n",
        "print(C1)"
      ],
      "metadata": {
        "colab": {
          "base_uri": "https://localhost:8080/"
        },
        "id": "eHG8pQrMeyBu",
        "outputId": "b873dda8-99a3-4bd9-e489-9da8995d9363"
      },
      "execution_count": 31,
      "outputs": [
        {
          "output_type": "stream",
          "name": "stdout",
          "text": [
            "['python', 'DV', 'CS', 'Excel', 'Power BI', 'Java', 'SQL', 'DE', 'Java script']\n"
          ]
        }
      ]
    },
    {
      "cell_type": "code",
      "source": [
        "# Remove\n",
        "\n",
        "course=[\"python\", \"DV\",\"CS\",\"Excel\",\"Power BI\",\"Java\"]\n",
        "print(course)\n",
        "course.remove(\"DV\")\n",
        "print(course)"
      ],
      "metadata": {
        "colab": {
          "base_uri": "https://localhost:8080/"
        },
        "id": "ro5frnehfUC5",
        "outputId": "70cf4550-ed21-48b7-c566-e248d4e8c8c4"
      },
      "execution_count": 33,
      "outputs": [
        {
          "output_type": "stream",
          "name": "stdout",
          "text": [
            "['python', 'DV', 'CS', 'Excel', 'Power BI', 'Java']\n",
            "['python', 'CS', 'Excel', 'Power BI', 'Java']\n"
          ]
        }
      ]
    },
    {
      "cell_type": "code",
      "source": [
        "# remove - pop\n",
        "\n",
        "course=[\"python\", \"DV\",\"CS\",\"Excel\",\"Power BI\",\"Java\"]\n",
        "print(course)\n",
        "course.pop(3)\n",
        "print(course)"
      ],
      "metadata": {
        "colab": {
          "base_uri": "https://localhost:8080/"
        },
        "id": "CojMRSiyfskU",
        "outputId": "9d72bb59-b39e-4c66-d6fe-5928b445c2b4"
      },
      "execution_count": 35,
      "outputs": [
        {
          "output_type": "stream",
          "name": "stdout",
          "text": [
            "['python', 'DV', 'CS', 'Excel', 'Power BI', 'Java']\n",
            "['python', 'DV', 'CS', 'Power BI', 'Java']\n"
          ]
        }
      ]
    },
    {
      "cell_type": "code",
      "source": [
        "course=[\"python\", \"DV\",\"CS\",\"Excel\",\"Power BI\",\"Java\"]\n",
        "print(course)\n",
        "course.pop()\n",
        "print(course)"
      ],
      "metadata": {
        "colab": {
          "base_uri": "https://localhost:8080/"
        },
        "id": "lcytUUsigM45",
        "outputId": "7fbcde27-4e43-4a34-b743-0985021eb7b6"
      },
      "execution_count": 36,
      "outputs": [
        {
          "output_type": "stream",
          "name": "stdout",
          "text": [
            "['python', 'DV', 'CS', 'Excel', 'Power BI', 'Java']\n",
            "['python', 'DV', 'CS', 'Excel', 'Power BI']\n"
          ]
        }
      ]
    },
    {
      "cell_type": "code",
      "source": [
        "# Delect - del\n",
        "\n",
        "course=[\"python\", \"DV\",\"CS\",\"Excel\",\"Power BI\",\"Java\"]\n",
        "print(course)\n",
        "del course[2]\n",
        "print(course)"
      ],
      "metadata": {
        "colab": {
          "base_uri": "https://localhost:8080/"
        },
        "id": "e41-6REwg-yi",
        "outputId": "3a2579a0-bdd4-4340-d5cf-0d36837b8647"
      },
      "execution_count": 39,
      "outputs": [
        {
          "output_type": "stream",
          "name": "stdout",
          "text": [
            "['python', 'DV', 'CS', 'Excel', 'Power BI', 'Java']\n",
            "['python', 'DV', 'Excel', 'Power BI', 'Java']\n"
          ]
        }
      ]
    },
    {
      "cell_type": "code",
      "source": [
        "# clear - clear()\n",
        "\n",
        "course=[\"python\", \"DV\",\"CS\",\"Excel\",\"Power BI\",\"Java\"]\n",
        "print(course)\n",
        "course.clear()\n",
        "print(course)"
      ],
      "metadata": {
        "colab": {
          "base_uri": "https://localhost:8080/"
        },
        "id": "D_8y5UAFhtdD",
        "outputId": "3c784782-d49b-44fe-822c-2bee01dafd8c"
      },
      "execution_count": 42,
      "outputs": [
        {
          "output_type": "stream",
          "name": "stdout",
          "text": [
            "['python', 'DV', 'CS', 'Excel', 'Power BI', 'Java']\n",
            "[]\n"
          ]
        }
      ]
    },
    {
      "cell_type": "code",
      "source": [
        "course=[\"python\", \"DV\",\"CS\",\"Excel\",\"Power BI\",\"Java\"]\n",
        "\n",
        "if CS in course:\n",
        "    print(\"Yes\")\n",
        "else:\n",
        "  print(\"No\")"
      ],
      "metadata": {
        "colab": {
          "base_uri": "https://localhost:8080/"
        },
        "id": "GgjvGemSib0Y",
        "outputId": "62ab6e4f-917f-45d1-ea29-b830bea1ccf2"
      },
      "execution_count": 49,
      "outputs": [
        {
          "output_type": "stream",
          "name": "stdout",
          "text": [
            "Yes\n"
          ]
        }
      ]
    },
    {
      "cell_type": "code",
      "source": [
        "course=[\"python\", \"DV\",\"CS\",\"Excel\",\"Power BI\",\"Java\"]\n",
        "\n",
        "answer=input(\"Course :\")\n",
        "if answer in course:\n",
        "    print(\"Yes\")\n",
        "else:\n",
        "  print(\"No\")"
      ],
      "metadata": {
        "colab": {
          "base_uri": "https://localhost:8080/"
        },
        "id": "bfTJC2W3l9MP",
        "outputId": "952478b4-5155-4bf6-99e2-75bcef82c4ed"
      },
      "execution_count": 51,
      "outputs": [
        {
          "output_type": "stream",
          "name": "stdout",
          "text": [
            "Course :python\n",
            "Yes\n"
          ]
        }
      ]
    },
    {
      "cell_type": "code",
      "source": [
        "# for loop in list\n",
        "\n",
        "course=[\"python\", \"DV\",\"CS\",\"Excel\",\"Power BI\",\"Java\"]\n",
        "\n",
        "for c in course:\n",
        "  print(c)"
      ],
      "metadata": {
        "colab": {
          "base_uri": "https://localhost:8080/"
        },
        "id": "DULx8eq2mia8",
        "outputId": "e8d444a6-5235-40b5-ee06-34467ad21bef"
      },
      "execution_count": 52,
      "outputs": [
        {
          "output_type": "stream",
          "name": "stdout",
          "text": [
            "python\n",
            "DV\n",
            "CS\n",
            "Excel\n",
            "Power BI\n",
            "Java\n"
          ]
        }
      ]
    },
    {
      "cell_type": "code",
      "source": [
        "course=[\"python\", \"DV\",\"CS\",\"Excel\",\"Power BI\",\"Java\"]\n",
        "\n",
        "for c in range(len(course)):\n",
        "  print(c,\" \",course[c])"
      ],
      "metadata": {
        "colab": {
          "base_uri": "https://localhost:8080/"
        },
        "id": "LqVs9YIlnwdE",
        "outputId": "e6501e13-b73e-4487-9940-ef8fb7ba23a2"
      },
      "execution_count": 55,
      "outputs": [
        {
          "output_type": "stream",
          "name": "stdout",
          "text": [
            "0   python\n",
            "1   DV\n",
            "2   CS\n",
            "3   Excel\n",
            "4   Power BI\n",
            "5   Java\n"
          ]
        }
      ]
    },
    {
      "cell_type": "code",
      "source": [
        "# sort\n",
        "\n",
        "course=[\"python\", \"DV\",\"CS\",\"Excel\",\"Power BI\",\"Java\"]\n",
        "course.sort()\n",
        "print(course)"
      ],
      "metadata": {
        "colab": {
          "base_uri": "https://localhost:8080/"
        },
        "id": "lrOIadZhoL4Q",
        "outputId": "f62add1c-01d1-4b22-e839-9ae688316485"
      },
      "execution_count": 56,
      "outputs": [
        {
          "output_type": "stream",
          "name": "stdout",
          "text": [
            "['CS', 'DV', 'Excel', 'Java', 'Power BI', 'python']\n"
          ]
        }
      ]
    },
    {
      "cell_type": "code",
      "source": [
        "course=[\"python\", \"DV\",\"CS\",\"Excel\",\"Power BI\",\"Java\",]\n",
        "course.sort(reverse=True)\n",
        "print(course)"
      ],
      "metadata": {
        "colab": {
          "base_uri": "https://localhost:8080/"
        },
        "id": "H7CT4xj2qMK5",
        "outputId": "2420dc9b-2ec8-4ab1-e2c5-a62ef8a0f218"
      },
      "execution_count": 58,
      "outputs": [
        {
          "output_type": "stream",
          "name": "stdout",
          "text": [
            "['python', 'Power BI', 'Java', 'Excel', 'DV', 'CS']\n"
          ]
        }
      ]
    },
    {
      "cell_type": "code",
      "source": [
        "course=[\"python\", \"DV\",\"CS\",\"Excel\",\"Power BI\",\"Java\",]\n",
        "course.sort(key=str.lower)\n",
        "print(course)"
      ],
      "metadata": {
        "colab": {
          "base_uri": "https://localhost:8080/"
        },
        "id": "MFtnfgJkqZOw",
        "outputId": "f835f468-b275-43c9-8025-fd3e0aaf0e2e"
      },
      "execution_count": 59,
      "outputs": [
        {
          "output_type": "stream",
          "name": "stdout",
          "text": [
            "['CS', 'DV', 'Excel', 'Java', 'Power BI', 'python']\n"
          ]
        }
      ]
    },
    {
      "cell_type": "code",
      "source": [
        "course=[\"python\", \"DV\",\"CS\",\"Excel\",\"Power BI\",\"Java\",]\n",
        "\n",
        "course.reverse()\n",
        "print(course)"
      ],
      "metadata": {
        "colab": {
          "base_uri": "https://localhost:8080/"
        },
        "id": "iBuAKgmPrAsb",
        "outputId": "1832eb39-eb50-4624-c52f-7bba36ea0a24"
      },
      "execution_count": 61,
      "outputs": [
        {
          "output_type": "stream",
          "name": "stdout",
          "text": [
            "['Java', 'Power BI', 'Excel', 'CS', 'DV', 'python']\n"
          ]
        }
      ]
    },
    {
      "cell_type": "code",
      "source": [
        "course=[\"python\", \"DV\",\"CS\",\"Excel\",\"Power BI\",\"Java\",]\n",
        "\n",
        "answer=course.copy()\n",
        "print(answer)\n",
        "print(course)"
      ],
      "metadata": {
        "colab": {
          "base_uri": "https://localhost:8080/"
        },
        "id": "tJ0RydWrres5",
        "outputId": "ec494898-d1af-479e-ff93-fa768a110976"
      },
      "execution_count": 63,
      "outputs": [
        {
          "output_type": "stream",
          "name": "stdout",
          "text": [
            "['python', 'DV', 'CS', 'Excel', 'Power BI', 'Java']\n",
            "['python', 'DV', 'CS', 'Excel', 'Power BI', 'Java']\n"
          ]
        }
      ]
    },
    {
      "cell_type": "code",
      "source": [
        "course=[\"python\", \"DV\",\"CS\",\"Excel\",\"Power BI\",\"Java\",]\n",
        "\n",
        "answer=course.count(\"Excel\")\n",
        "print(answer)"
      ],
      "metadata": {
        "colab": {
          "base_uri": "https://localhost:8080/"
        },
        "id": "nH_vCSRfuMSM",
        "outputId": "cb715820-2128-447c-b36e-6e744b6eb548"
      },
      "execution_count": 64,
      "outputs": [
        {
          "output_type": "stream",
          "name": "stdout",
          "text": [
            "1\n"
          ]
        }
      ]
    },
    {
      "cell_type": "code",
      "source": [
        "course=[\"python\", \"DV\",\"CS\",\"Excel\",\"Power BI\",\"Java\",]\n",
        "\n",
        "answer=course.index(\"Excel\")\n",
        "print(answer)"
      ],
      "metadata": {
        "colab": {
          "base_uri": "https://localhost:8080/"
        },
        "id": "NiKDGsvpvBrc",
        "outputId": "79382854-a45e-4e10-f0a8-9769a7b6165b"
      },
      "execution_count": 66,
      "outputs": [
        {
          "output_type": "stream",
          "name": "stdout",
          "text": [
            "3\n"
          ]
        }
      ]
    }
  ]
}