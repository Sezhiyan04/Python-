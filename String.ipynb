{
  "nbformat": 4,
  "nbformat_minor": 0,
  "metadata": {
    "colab": {
      "provenance": []
    },
    "kernelspec": {
      "name": "python3",
      "display_name": "Python 3"
    },
    "language_info": {
      "name": "python"
    }
  },
  "cells": [
    {
      "cell_type": "code",
      "execution_count": null,
      "metadata": {
        "colab": {
          "base_uri": "https://localhost:8080/"
        },
        "id": "ebSHj1ldBq8h",
        "outputId": "0221b86b-7843-4adc-9907-2e8ccfaabea6"
      },
      "outputs": [
        {
          "output_type": "stream",
          "name": "stdout",
          "text": [
            "hello sezhiyan\n"
          ]
        }
      ],
      "source": [
        "# String\n",
        "print(\"hello sezhiyan\")"
      ]
    },
    {
      "cell_type": "code",
      "source": [
        "print(\"hello sezhiyan - welcome to python\")"
      ],
      "metadata": {
        "colab": {
          "base_uri": "https://localhost:8080/"
        },
        "id": "X3BYFnOzFq6u",
        "outputId": "b06f0380-6001-4b13-da89-8ec989f365d5"
      },
      "execution_count": null,
      "outputs": [
        {
          "output_type": "stream",
          "name": "stdout",
          "text": [
            "hello sezhiyan - welcome to python\n"
          ]
        }
      ]
    },
    {
      "cell_type": "code",
      "source": [
        "print(\"hello'sezhiyan'\")"
      ],
      "metadata": {
        "id": "dn7pAjYOGlyr",
        "outputId": "118fe299-5cf7-4f27-98c1-e249bce4b3c1",
        "colab": {
          "base_uri": "https://localhost:8080/"
        }
      },
      "execution_count": null,
      "outputs": [
        {
          "output_type": "stream",
          "name": "stdout",
          "text": [
            "hello'sezhiyan'\n"
          ]
        }
      ]
    },
    {
      "cell_type": "code",
      "source": [
        "print(\"\"\"\n",
        "    hello sezhiyan\n",
        "    welcome to python\n",
        "\"\"\")"
      ],
      "metadata": {
        "colab": {
          "base_uri": "https://localhost:8080/"
        },
        "id": "4wVQFMqOF1Jx",
        "outputId": "bfb428c5-d3a2-4d93-f4a2-55b02d2da65b"
      },
      "execution_count": null,
      "outputs": [
        {
          "output_type": "stream",
          "name": "stdout",
          "text": [
            "\n",
            "    hello sezhiyan\n",
            "    welcome to python\n",
            "\n"
          ]
        }
      ]
    },
    {
      "cell_type": "code",
      "source": [
        "print('''\n",
        "hello sezhiyan\n",
        "welcome to \"python\"\n",
        "''')"
      ],
      "metadata": {
        "colab": {
          "base_uri": "https://localhost:8080/"
        },
        "id": "AN4BaVuYGQEV",
        "outputId": "e31bcd5f-d216-4cfe-a34e-66a97542d3b3"
      },
      "execution_count": null,
      "outputs": [
        {
          "output_type": "stream",
          "name": "stdout",
          "text": [
            "\n",
            "hello sezhiyan\n",
            "welcome to \"python\"\n",
            "\n"
          ]
        }
      ]
    },
    {
      "cell_type": "code",
      "source": [
        "content=\"welcome to python sezhiyan\"\n",
        "if \"sezhiyan\" in content:\n",
        "  print(\"yes\")\n",
        "else:\n",
        "  print(\"no\")"
      ],
      "metadata": {
        "id": "qmwYlLR9Ggeo",
        "colab": {
          "base_uri": "https://localhost:8080/"
        },
        "outputId": "57a2669a-8edb-46d9-f41b-035ba2d41238"
      },
      "execution_count": null,
      "outputs": [
        {
          "output_type": "stream",
          "name": "stdout",
          "text": [
            "yes\n"
          ]
        }
      ]
    },
    {
      "cell_type": "code",
      "source": [
        "Name=\"Sezhiyan\"\n",
        "change=Name.upper()\n",
        "print(change)"
      ],
      "metadata": {
        "colab": {
          "base_uri": "https://localhost:8080/"
        },
        "id": "mgRah1z3FIUK",
        "outputId": "7fa84da5-716c-4081-e1cc-67d5d54e53d9"
      },
      "execution_count": null,
      "outputs": [
        {
          "output_type": "stream",
          "name": "stdout",
          "text": [
            "SEZHIYAN\n"
          ]
        }
      ]
    },
    {
      "cell_type": "code",
      "source": [
        "Name=\"SEZHIYAN\"\n",
        "change=Name.lower()\n",
        "print(change)"
      ],
      "metadata": {
        "colab": {
          "base_uri": "https://localhost:8080/"
        },
        "id": "HWRY59gGFo92",
        "outputId": "2235edd1-a292-4bf4-c9f8-47e8c2662ed9"
      },
      "execution_count": null,
      "outputs": [
        {
          "output_type": "stream",
          "name": "stdout",
          "text": [
            "sezhiyan\n"
          ]
        }
      ]
    },
    {
      "cell_type": "code",
      "source": [
        "Name=\"                  sezhiyan\"\n",
        "print(Name)\n",
        "change=Name.strip()\n",
        "print(change)"
      ],
      "metadata": {
        "colab": {
          "base_uri": "https://localhost:8080/"
        },
        "id": "d4tBTbpDF5ev",
        "outputId": "bcf23ef3-a432-43ee-91aa-805cc97bb8fb"
      },
      "execution_count": null,
      "outputs": [
        {
          "output_type": "stream",
          "name": "stdout",
          "text": [
            "                  sezhiyan\n",
            "sezhiyan\n"
          ]
        }
      ]
    },
    {
      "cell_type": "code",
      "source": [
        "content=\"welcome to puthon sezhiyan\"\n",
        "\n",
        "\n",
        "print(content.replace(\"u\",\"y\"))"
      ],
      "metadata": {
        "colab": {
          "base_uri": "https://localhost:8080/"
        },
        "id": "qRB_y7KRGUVU",
        "outputId": "341800f3-64c3-42e2-a597-ecf64797cdfc"
      },
      "execution_count": null,
      "outputs": [
        {
          "output_type": "stream",
          "name": "stdout",
          "text": [
            "welcome to python sezhiyan\n"
          ]
        }
      ]
    },
    {
      "cell_type": "code",
      "source": [
        "content=\"welcome to python sezhiyan\"\n",
        "print(content.split(\" \"))"
      ],
      "metadata": {
        "colab": {
          "base_uri": "https://localhost:8080/"
        },
        "id": "6IkOlyWPH-_V",
        "outputId": "508c7cb7-f0fa-4db0-df10-a8ba28354b12"
      },
      "execution_count": null,
      "outputs": [
        {
          "output_type": "stream",
          "name": "stdout",
          "text": [
            "['welcome', 'to', 'python', 'sezhiyan']\n"
          ]
        }
      ]
    },
    {
      "cell_type": "code",
      "source": [
        "content=\"welcome to python sezhiyan\"\n",
        "print(content.capitalize())"
      ],
      "metadata": {
        "colab": {
          "base_uri": "https://localhost:8080/"
        },
        "id": "WR_Hqjr9IRX9",
        "outputId": "20858a83-4d86-4763-894a-cf4763677bc1"
      },
      "execution_count": null,
      "outputs": [
        {
          "output_type": "stream",
          "name": "stdout",
          "text": [
            "Welcome to python sezhiyan\n"
          ]
        }
      ]
    },
    {
      "cell_type": "code",
      "source": [
        "content=\"Welcome to Python sezhiyan\"\n",
        "print(content.casefold())"
      ],
      "metadata": {
        "colab": {
          "base_uri": "https://localhost:8080/"
        },
        "id": "gznsKmlFId9e",
        "outputId": "3d1162ab-95ba-4cf8-fdf5-282c166eaa21"
      },
      "execution_count": null,
      "outputs": [
        {
          "output_type": "stream",
          "name": "stdout",
          "text": [
            "welcome to python sezhiyan\n"
          ]
        }
      ]
    },
    {
      "cell_type": "code",
      "source": [
        "content=\"welcome to python sezhiyan\"\n",
        "print(content.find(\"t\"))"
      ],
      "metadata": {
        "colab": {
          "base_uri": "https://localhost:8080/"
        },
        "id": "1fyXf4TpIvG_",
        "outputId": "b1f6ac6b-d003-4b2d-c88b-681367ef7de3"
      },
      "execution_count": 29,
      "outputs": [
        {
          "output_type": "stream",
          "name": "stdout",
          "text": [
            "8\n"
          ]
        }
      ]
    },
    {
      "cell_type": "code",
      "source": [
        "content=\"welcome to python sezhiyan\"\n",
        "print(content.index(\"to\"))"
      ],
      "metadata": {
        "id": "7lpxBElnI9lm",
        "colab": {
          "base_uri": "https://localhost:8080/"
        },
        "outputId": "24a9e686-f053-4462-95e4-bbe5b35ebdc0"
      },
      "execution_count": 30,
      "outputs": [
        {
          "output_type": "stream",
          "name": "stdout",
          "text": [
            "8\n"
          ]
        }
      ]
    },
    {
      "cell_type": "code",
      "source": [
        "content=\"welcome to python sezhiyan\"\n",
        "change=content.count(\"welcome\")\n",
        "print(change)"
      ],
      "metadata": {
        "colab": {
          "base_uri": "https://localhost:8080/"
        },
        "id": "KkgBGpdGLeGW",
        "outputId": "006c59de-49cd-42bc-ff05-e929be79531c"
      },
      "execution_count": 53,
      "outputs": [
        {
          "output_type": "stream",
          "name": "stdout",
          "text": [
            "1\n"
          ]
        }
      ]
    },
    {
      "cell_type": "code",
      "source": [
        "content=(\"python\",\"excel\",\"DA\")\n",
        "change=\" \".join(content)\n",
        "print(change)"
      ],
      "metadata": {
        "colab": {
          "base_uri": "https://localhost:8080/"
        },
        "id": "Z9o0if_KJlnB",
        "outputId": "5131f3f2-8d5d-4565-91c3-05e494080fb7"
      },
      "execution_count": 38,
      "outputs": [
        {
          "output_type": "stream",
          "name": "stdout",
          "text": [
            "python excel DA\n"
          ]
        }
      ]
    },
    {
      "cell_type": "code",
      "source": [
        "content=\"welcome sezhiyan\"\n",
        "\n",
        "change=content.center(30, \"*\")\n",
        "print(change)"
      ],
      "metadata": {
        "colab": {
          "base_uri": "https://localhost:8080/"
        },
        "id": "pwzDOEq7Kgx2",
        "outputId": "c45fbc9e-c33b-4def-ec9a-9cf433b0bf9f"
      },
      "execution_count": 47,
      "outputs": [
        {
          "output_type": "stream",
          "name": "stdout",
          "text": [
            "*******welcome sezhiyan*******\n"
          ]
        }
      ]
    }
  ]
}