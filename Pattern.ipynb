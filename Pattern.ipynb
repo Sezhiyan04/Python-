{
  "nbformat": 4,
  "nbformat_minor": 0,
  "metadata": {
    "colab": {
      "provenance": []
    },
    "kernelspec": {
      "name": "python3",
      "display_name": "Python 3"
    },
    "language_info": {
      "name": "python"
    }
  },
  "cells": [
    {
      "cell_type": "code",
      "source": [
        "import sys\n",
        "print(sys.version)\n"
      ],
      "metadata": {
        "colab": {
          "base_uri": "https://localhost:8080/"
        },
        "id": "jEACFLRxIjXP",
        "outputId": "681a97ca-8065-4ebf-dfb9-e8c7c71cc74a"
      },
      "execution_count": null,
      "outputs": [
        {
          "output_type": "stream",
          "name": "stdout",
          "text": [
            "3.12.11 (main, Jun  4 2025, 08:56:18) [GCC 11.4.0]\n"
          ]
        }
      ]
    },
    {
      "cell_type": "code",
      "source": [
        "# variable - assigna value\n",
        "Name = \"Sezhiyan\"\n",
        "print(\"i am\" ,Name)\n",
        "print(\"i am \"+Name)"
      ],
      "metadata": {
        "colab": {
          "base_uri": "https://localhost:8080/"
        },
        "id": "ng46XgLwCfGj",
        "outputId": "e597c375-7e3b-4536-a861-c22e2edd3d3f"
      },
      "execution_count": null,
      "outputs": [
        {
          "output_type": "stream",
          "name": "stdout",
          "text": [
            "i am Sezhiyan\n",
            "i am Sezhiyan\n"
          ]
        }
      ]
    },
    {
      "cell_type": "code",
      "source": [
        "print(\"welcome to python\")"
      ],
      "metadata": {
        "colab": {
          "base_uri": "https://localhost:8080/"
        },
        "id": "S2uo7SdcIqMZ",
        "outputId": "ab496065-e0c6-4cbf-b5d0-c08ffecde435"
      },
      "execution_count": null,
      "outputs": [
        {
          "output_type": "stream",
          "name": "stdout",
          "text": [
            "welcome to python\n"
          ]
        }
      ]
    },
    {
      "cell_type": "code",
      "source": [
        "#camelCase\n",
        "fullName= \"Varshath Kumar\"\n",
        "print(fullName)"
      ],
      "metadata": {
        "colab": {
          "base_uri": "https://localhost:8080/"
        },
        "id": "fBEAse4SFrOt",
        "outputId": "df0c3267-0434-449f-d062-f27e947cddad"
      },
      "execution_count": null,
      "outputs": [
        {
          "output_type": "stream",
          "name": "stdout",
          "text": [
            "Varshath Kumar\n"
          ]
        }
      ]
    },
    {
      "cell_type": "code",
      "source": [
        "# snakecase\n",
        "full_name = \"Varshath Kumar\"\n",
        "print(full_name)"
      ],
      "metadata": {
        "colab": {
          "base_uri": "https://localhost:8080/"
        },
        "id": "HgMLFJZyHhfw",
        "outputId": "fdea8a74-9fa7-4a12-f635-bbe85306271b"
      },
      "execution_count": null,
      "outputs": [
        {
          "output_type": "stream",
          "name": "stdout",
          "text": [
            "Varshath Kumar\n"
          ]
        }
      ]
    },
    {
      "cell_type": "code",
      "source": [
        "#PascalCase\n",
        "FullName =\"Varshath Kumar\"\n",
        "print(FullName)"
      ],
      "metadata": {
        "colab": {
          "base_uri": "https://localhost:8080/"
        },
        "id": "kHdHm6HMHoQt",
        "outputId": "9d1a4d9c-6061-4b72-8c19-67caecb8416d"
      },
      "execution_count": null,
      "outputs": [
        {
          "output_type": "stream",
          "name": "stdout",
          "text": [
            "Varshath Kumar\n"
          ]
        }
      ]
    },
    {
      "cell_type": "code",
      "source": [
        "# one value to multiple variables\n",
        "a=b=c=d=\"python\"\n",
        "print(a)\n",
        "print(b)\n",
        "print(c)\n",
        "print(d)"
      ],
      "metadata": {
        "colab": {
          "base_uri": "https://localhost:8080/"
        },
        "id": "Z5nqkAXYIMuZ",
        "outputId": "d44fb696-f046-413d-ee64-c719fbfac2f1"
      },
      "execution_count": null,
      "outputs": [
        {
          "output_type": "stream",
          "name": "stdout",
          "text": [
            "python\n",
            "python\n",
            "python\n",
            "python\n"
          ]
        }
      ]
    },
    {
      "cell_type": "code",
      "source": [
        "# Many value to multiple variables\n",
        "a,b,c=\"python\",\"excel\",\"Power BI\"\n",
        "print(a)\n",
        "print(b)\n",
        "print(c)"
      ],
      "metadata": {
        "colab": {
          "base_uri": "https://localhost:8080/"
        },
        "id": "9tXnScYbI2AZ",
        "outputId": "aabeec4b-dcd9-4c5b-8c4d-76f9ff87b90a"
      },
      "execution_count": null,
      "outputs": [
        {
          "output_type": "stream",
          "name": "stdout",
          "text": [
            "python\n",
            "excel\n",
            "Power BI\n"
          ]
        }
      ]
    },
    {
      "cell_type": "code",
      "source": [
        "# string str\n",
        "Name=\"Sezhiyan\"\n",
        "print(Name)\n",
        "print(type(Name))"
      ],
      "metadata": {
        "colab": {
          "base_uri": "https://localhost:8080/"
        },
        "id": "e1fwxHsGJWZm",
        "outputId": "636c5de1-b42e-4e25-8fd6-fc1d3e8b9ef5"
      },
      "execution_count": null,
      "outputs": [
        {
          "output_type": "stream",
          "name": "stdout",
          "text": [
            "Sezhiyan\n",
            "<class 'str'>\n"
          ]
        }
      ]
    },
    {
      "cell_type": "code",
      "source": [
        "# Numeric Data type-int, float, complex\n",
        "#int\n",
        "Rollnumber = 101\n",
        "print(Rollnumber)\n",
        "print(type(Rollnumber))"
      ],
      "metadata": {
        "colab": {
          "base_uri": "https://localhost:8080/"
        },
        "id": "4SlKdknEKRof",
        "outputId": "d3c16bf5-7b94-462b-f528-4cc27135789d"
      },
      "execution_count": null,
      "outputs": [
        {
          "output_type": "stream",
          "name": "stdout",
          "text": [
            "101\n",
            "<class 'int'>\n"
          ]
        }
      ]
    },
    {
      "cell_type": "code",
      "source": [
        "# flot\n",
        "Cgpa = 60.5\n",
        "print(Cgpa)\n",
        "print(type(Cgpa))"
      ],
      "metadata": {
        "colab": {
          "base_uri": "https://localhost:8080/"
        },
        "id": "ZD4k1W7rK5IQ",
        "outputId": "1f0d00fd-59c4-41e0-fc19-42e7685e4f40"
      },
      "execution_count": null,
      "outputs": [
        {
          "output_type": "stream",
          "name": "stdout",
          "text": [
            "60.5\n",
            "<class 'float'>\n"
          ]
        }
      ]
    },
    {
      "cell_type": "code",
      "source": [
        "# Complex\n",
        "check=1+2j+5\n",
        "print(check)\n",
        "print(type(check))"
      ],
      "metadata": {
        "colab": {
          "base_uri": "https://localhost:8080/"
        },
        "id": "SkiwvRFXLoKw",
        "outputId": "9a68467e-fb62-4a6d-f11e-0203e56ac68f"
      },
      "execution_count": null,
      "outputs": [
        {
          "output_type": "stream",
          "name": "stdout",
          "text": [
            "(6+2j)\n",
            "<class 'complex'>\n"
          ]
        }
      ]
    },
    {
      "cell_type": "code",
      "source": [
        "# Sequence Data type-list,tuple, range\n",
        "#list\n",
        "course=[\"python\",\"Power BI\",\"Excel\"]\n",
        "print(course)\n",
        "print(type(course))"
      ],
      "metadata": {
        "colab": {
          "base_uri": "https://localhost:8080/"
        },
        "id": "AYuZ9PRZM3x1",
        "outputId": "aff96526-7ee3-4559-a2de-e0702fb2cb57"
      },
      "execution_count": null,
      "outputs": [
        {
          "output_type": "stream",
          "name": "stdout",
          "text": [
            "['python', 'Power BI', 'Excel']\n",
            "<class 'list'>\n"
          ]
        }
      ]
    },
    {
      "cell_type": "code",
      "source": [
        "# tuple\n",
        "course=(\"python\",\"Power BI\",\"Excel\")\n",
        "print(course)\n",
        "print(type(course))\n"
      ],
      "metadata": {
        "colab": {
          "base_uri": "https://localhost:8080/"
        },
        "id": "qX2DwLORNs0F",
        "outputId": "aa71e4b9-72f4-4f44-e59d-b4cdb92a21e4"
      },
      "execution_count": null,
      "outputs": [
        {
          "output_type": "stream",
          "name": "stdout",
          "text": [
            "('python', 'Power BI', 'Excel')\n",
            "<class 'tuple'>\n"
          ]
        }
      ]
    },
    {
      "cell_type": "code",
      "source": [
        "#Range\n",
        "Check= range(1,15)\n",
        "print(Check)\n",
        "print(type(Check))"
      ],
      "metadata": {
        "colab": {
          "base_uri": "https://localhost:8080/"
        },
        "id": "IeOh_ZV5N6n4",
        "outputId": "93ffc44f-a0e8-4eb3-f59c-1b00a69b9be4"
      },
      "execution_count": null,
      "outputs": [
        {
          "output_type": "stream",
          "name": "stdout",
          "text": [
            "range(1, 15)\n",
            "<class 'range'>\n"
          ]
        }
      ]
    },
    {
      "cell_type": "code",
      "source": [
        "# Mapping data type-dist\n",
        "#Dist\n",
        "Details ={\"Name\":\"Sezhiyan\",\"age\":21,\"Email\":\"Sezhiyan@gmail.com\"}\n",
        "print(Details)\n",
        "print(type(Details))"
      ],
      "metadata": {
        "colab": {
          "base_uri": "https://localhost:8080/"
        },
        "id": "FNwwQf-pOdZ2",
        "outputId": "970219f2-f6dd-40fd-9996-4124ee932a56"
      },
      "execution_count": null,
      "outputs": [
        {
          "output_type": "stream",
          "name": "stdout",
          "text": [
            "{'Name': 'Sezhiyan', 'age': 21, 'Email': 'Sezhiyan@gmail.com'}\n",
            "<class 'dict'>\n"
          ]
        }
      ]
    },
    {
      "cell_type": "code",
      "source": [
        "#set Dat type - set\n",
        "# set\n",
        "course={\"python\",\"Power BI\",\"Excel\"}\n",
        "print(course)\n",
        "print(type(course))"
      ],
      "metadata": {
        "colab": {
          "base_uri": "https://localhost:8080/"
        },
        "id": "1Dn_HPEzPrxx",
        "outputId": "7887667b-c629-48be-9374-8f29454685b8"
      },
      "execution_count": null,
      "outputs": [
        {
          "output_type": "stream",
          "name": "stdout",
          "text": [
            "{'Excel', 'python', 'Power BI'}\n",
            "<class 'set'>\n"
          ]
        }
      ]
    },
    {
      "cell_type": "code",
      "source": [
        "#boolean data type\n",
        "check=True\n",
        "print(check)\n",
        "print(type(check))"
      ],
      "metadata": {
        "colab": {
          "base_uri": "https://localhost:8080/"
        },
        "id": "7c9RUecPQAfL",
        "outputId": "fd7d9ee0-8963-44c3-cee5-b48b72ca747b"
      },
      "execution_count": null,
      "outputs": [
        {
          "output_type": "stream",
          "name": "stdout",
          "text": [
            "True\n",
            "<class 'bool'>\n"
          ]
        }
      ]
    },
    {
      "cell_type": "code",
      "source": [
        "# Operators Ari.opr, Ass.opr, Rel.opr\n",
        "# Arithmetic operator - +,-,*,/,%,**,//\n",
        "\n",
        "a=10\n",
        "b=5\n",
        "\n",
        "print(a+b) # (+)\n",
        "print(a-b) # (-)\n",
        "print(a*b) # (*)\n",
        "print(a%b) # (%)\n",
        "print(a/b) # (/)\n",
        "print(a//b) # (//)\n",
        "\n"
      ],
      "metadata": {
        "colab": {
          "base_uri": "https://localhost:8080/"
        },
        "id": "ZfRajcNmIwDS",
        "outputId": "0a6a7e78-a3e3-4ada-b4a3-ebedcc0fb2e0"
      },
      "execution_count": null,
      "outputs": [
        {
          "output_type": "stream",
          "name": "stdout",
          "text": [
            "15\n",
            "5\n",
            "50\n",
            "0\n",
            "2.0\n",
            "2\n"
          ]
        }
      ]
    },
    {
      "cell_type": "code",
      "source": [
        "# Arithmetic operator - **\n",
        "\n",
        "a=5\n",
        "b=6\n",
        "print(a**b) # (**)"
      ],
      "metadata": {
        "colab": {
          "base_uri": "https://localhost:8080/"
        },
        "id": "cgM2PwiRLG0I",
        "outputId": "8e4a92fc-eef8-40e1-a26c-1fedb11b2c23"
      },
      "execution_count": null,
      "outputs": [
        {
          "output_type": "stream",
          "name": "stdout",
          "text": [
            "15625\n"
          ]
        }
      ]
    },
    {
      "cell_type": "code",
      "source": [
        "# Assigment operator - +=,-=,*=,/=,%=,**=,//=\n",
        "\n",
        "a=10\n",
        "b=5\n",
        "\n",
        "print(\"Before value\")\n",
        "print(\"A -\" ,a)\n",
        "print(\"B -\" ,b)\n",
        "\n",
        "# a+=b # (a=a+b)\n",
        "# a-=b # (a=a-b)\n",
        "# a*=b # (a=a*b)\n",
        "# a%=b # (a=a%b)\n",
        "# a/=b # (a=a/b)\n",
        "a//=b # (a=a//b)\n",
        "# a**=b # (a=a**b)\n",
        "\n",
        "print(\"After value\")\n",
        "print(\"A -\" ,a)\n",
        "print(\"B -\" ,b)\n"
      ],
      "metadata": {
        "colab": {
          "base_uri": "https://localhost:8080/"
        },
        "id": "j4VxhFuhLZnq",
        "outputId": "59200033-c86c-488a-f969-fc907c76477e"
      },
      "execution_count": null,
      "outputs": [
        {
          "output_type": "stream",
          "name": "stdout",
          "text": [
            "Before value\n",
            "A - 10\n",
            "B - 5\n",
            "After value\n",
            "A - 2\n",
            "B - 5\n"
          ]
        }
      ]
    },
    {
      "cell_type": "code",
      "source": [
        "# Relation operator - >,>=,<,<=,==,!= bool true or false\n",
        "a=30\n",
        "b=10\n",
        "\n",
        "print(a==b)\n",
        "print(a!=b)\n",
        "print(a<b)\n",
        "print(a<=b)\n",
        "print(a>b)\n",
        "print(a>=b)"
      ],
      "metadata": {
        "colab": {
          "base_uri": "https://localhost:8080/"
        },
        "id": "6lDvnUAfNSh2",
        "outputId": "3f02a2cb-9853-463a-f407-3bfeddd8eed5"
      },
      "execution_count": null,
      "outputs": [
        {
          "output_type": "stream",
          "name": "stdout",
          "text": [
            "False\n",
            "True\n",
            "False\n",
            "False\n",
            "True\n",
            "True\n"
          ]
        }
      ]
    },
    {
      "cell_type": "code",
      "source": [
        "# sum, avg\n",
        "\n",
        "#sum\n",
        "T=int(input(\"enter the mark\"))\n",
        "E=int(input(\"enter the mark\"))\n",
        "M=int(input(\"enter the mark\"))\n",
        "S=int(input(\"enter the mark\"))\n",
        "SS=int(input(\"enter the mark\"))\n",
        "\n",
        "sum=T+E+M+S+SS\n",
        "print(\"sum -\",sum)\n",
        "\n",
        "#avg\n",
        "\n",
        "avg=sum/5\n",
        "print(\"avg -\",avg)"
      ],
      "metadata": {
        "colab": {
          "base_uri": "https://localhost:8080/"
        },
        "id": "luh_yw2SP3L2",
        "outputId": "5b362ddc-a77b-439d-ac79-4b4a115dcf44"
      },
      "execution_count": null,
      "outputs": [
        {
          "output_type": "stream",
          "name": "stdout",
          "text": [
            "enter the mark 99\n",
            "enter the mark 95\n",
            "enter the mark 90\n",
            "enter the mark 98\n",
            "enter the mark 99\n",
            "sum - 481\n",
            "avg - 96.2\n"
          ]
        }
      ]
    },
    {
      "cell_type": "code",
      "source": [
        "# age cal\n",
        "\n",
        "cy= int(input(\"current year\"))\n",
        "DOB= int (input(\"DOB\"))\n",
        "\n",
        "age = cy-DOB\n",
        "print(\"age\",age)"
      ],
      "metadata": {
        "colab": {
          "base_uri": "https://localhost:8080/"
        },
        "id": "BpCaxLm-R6Lz",
        "outputId": "5b86d7c4-75b6-419a-bcc1-078b5cb0cd1c"
      },
      "execution_count": null,
      "outputs": [
        {
          "output_type": "stream",
          "name": "stdout",
          "text": [
            "current year2025\n",
            "DOB2004\n",
            "age 21\n"
          ]
        }
      ]
    },
    {
      "cell_type": "code",
      "source": [
        "# Celsius to Fahrenheit\n",
        "\n",
        "c=int(input(\"enter celsius\"))\n",
        "f=(c*9/5)+32\n",
        "print(\"fahrenheit\" ,f)"
      ],
      "metadata": {
        "colab": {
          "base_uri": "https://localhost:8080/"
        },
        "id": "eVJyfZkDS1F8",
        "outputId": "4da3b1e3-eb81-40cf-8093-8afd01a63b46"
      },
      "execution_count": null,
      "outputs": [
        {
          "output_type": "stream",
          "name": "stdout",
          "text": [
            "enter celsius 5\n",
            "fahrenheit 41.0\n"
          ]
        }
      ]
    },
    {
      "cell_type": "code",
      "source": [
        "# Fahrenheit to Celsius\n",
        "f=int(input(\"enter fahrenheit\"))\n",
        "c=(f-32)*5/9\n",
        "print(\"celsius -\" ,c)"
      ],
      "metadata": {
        "colab": {
          "base_uri": "https://localhost:8080/"
        },
        "id": "GNbTJHg1Twis",
        "outputId": "75e750e2-2667-4bee-8fcd-63c8c9df764b"
      },
      "execution_count": null,
      "outputs": [
        {
          "output_type": "stream",
          "name": "stdout",
          "text": [
            "enter fahrenheit 45\n",
            "celsius - 7.222222222222222\n"
          ]
        }
      ]
    },
    {
      "cell_type": "code",
      "source": [
        "# salary calculation\n",
        "\n",
        "yearly_salary = 600000\n",
        "\n",
        "monthly_salary=yearly_salary/12\n",
        "weekly_salary=yearly_salary/52\n",
        "perday_salary=weekly_salary/7\n",
        "perhour_salary=perday_salary/8\n",
        "\n",
        "print(\"yearly salary : ₹\",yearly_salary)\n",
        "print(\"monthly salary : ₹\",round(monthly_salary, 2))\n",
        "print(\"weekly salary : ₹\",round(weekly_salary, 2))\n",
        "print(\"perday salary : ₹\",round(perday_salary, 2))\n",
        "print(\"perhour salary : ₹\",round(perhour_salary, 2))\n"
      ],
      "metadata": {
        "colab": {
          "base_uri": "https://localhost:8080/"
        },
        "id": "Mupu1tkxU2vD",
        "outputId": "1e53ca4b-83a9-4c48-b073-a5b14a1073b3"
      },
      "execution_count": null,
      "outputs": [
        {
          "output_type": "stream",
          "name": "stdout",
          "text": [
            "yearly salary : ₹ 600000\n",
            "monthly salary : ₹ 50000.0\n",
            "weekly salary : ₹ 11538.46\n",
            "perday salary : ₹ 1648.35\n",
            "perhour salary : ₹ 206.04\n"
          ]
        }
      ]
    },
    {
      "cell_type": "code",
      "source": [
        "# miles to km\n",
        "\n",
        "miles = 10\n",
        "kilometers = (miles * 1.60934)\n",
        "\n",
        "print( \"kilometers :\",kilometers)"
      ],
      "metadata": {
        "colab": {
          "base_uri": "https://localhost:8080/"
        },
        "id": "toYCzn46ccEw",
        "outputId": "54851f37-19e8-474a-eb02-a4c0f5f650d8"
      },
      "execution_count": null,
      "outputs": [
        {
          "output_type": "stream",
          "name": "stdout",
          "text": [
            "kilometers : 16.0934\n"
          ]
        }
      ]
    },
    {
      "cell_type": "code",
      "source": [
        "# km to miles\n",
        "\n",
        "kilometers = 25\n",
        "miles = (kilometers * 0.621369647819236)\n",
        "\n",
        "print(\"miles :\",miles)"
      ],
      "metadata": {
        "colab": {
          "base_uri": "https://localhost:8080/"
        },
        "id": "vY0L5J4FdyKT",
        "outputId": "193b156e-8c67-4d6f-d564-942a18b83ca6"
      },
      "execution_count": null,
      "outputs": [
        {
          "output_type": "stream",
          "name": "stdout",
          "text": [
            "miles : 15.534241195480899\n"
          ]
        }
      ]
    },
    {
      "cell_type": "code",
      "source": [
        "# area of rectangle\n",
        "\n",
        "length = float(input(\"Enter the length of the rectangle: \"))\n",
        "width = float(input(\"Enter the width of the rectangle: \"))\n",
        "area_rectangle = length * width\n",
        "print(\"area of rectangle :\",area_rectangle)"
      ],
      "metadata": {
        "colab": {
          "base_uri": "https://localhost:8080/"
        },
        "id": "bLRoOiXleaNV",
        "outputId": "e6efe8c2-c0a9-451e-e65e-ac243513367b"
      },
      "execution_count": null,
      "outputs": [
        {
          "output_type": "stream",
          "name": "stdout",
          "text": [
            "Enter the length of the rectangle:  10\n",
            "Enter the width of the rectangle:  5\n",
            "area of rectangle : 50.0\n"
          ]
        }
      ]
    },
    {
      "cell_type": "code",
      "source": [
        "# area of square\n",
        "\n",
        "length = float(input(\"Enter the length of the square: \"))\n",
        "width = float(input(\"Enter the width of the square: \"))\n",
        "area_square = length * width\n",
        "print(\"area of square :\",area_square)"
      ],
      "metadata": {
        "colab": {
          "base_uri": "https://localhost:8080/"
        },
        "id": "CDs-aBTXfuBq",
        "outputId": "68e0e528-9ecc-4224-cc50-8fcedeaea78e"
      },
      "execution_count": null,
      "outputs": [
        {
          "output_type": "stream",
          "name": "stdout",
          "text": [
            "Enter the length of the square: 20\n",
            "Enter the width of the square: 25\n",
            "area of square : 500.0\n"
          ]
        }
      ]
    },
    {
      "cell_type": "code",
      "source": [
        "# Logical Operators - and, or, not\n",
        "# and\n",
        "\n",
        "a=10\n",
        "b=5\n",
        "\n",
        "check= a!=b and a>b and a>=b\n",
        "\n",
        "print(check)"
      ],
      "metadata": {
        "colab": {
          "base_uri": "https://localhost:8080/"
        },
        "id": "CwP9FWq9LzFS",
        "outputId": "fd00d736-105f-4cd9-f57b-c540d7e8fb7e"
      },
      "execution_count": null,
      "outputs": [
        {
          "output_type": "stream",
          "name": "stdout",
          "text": [
            "True\n"
          ]
        }
      ]
    },
    {
      "cell_type": "code",
      "source": [
        "# and\n",
        "\n",
        "un=\"sezhiyan\"\n",
        "pw=\"Sezhiyan123\"\n",
        "\n",
        "userName=input(\"enter the name\")\n",
        "passWord=input(\"enter the pass\")\n",
        "\n",
        "check=(userName==un) and (passWord==pw)\n",
        "\n",
        "print(check)"
      ],
      "metadata": {
        "colab": {
          "base_uri": "https://localhost:8080/"
        },
        "id": "VUMESOQXOx5K",
        "outputId": "11559a2b-d900-4717-a2b2-f2f0d1dbedab"
      },
      "execution_count": null,
      "outputs": [
        {
          "output_type": "stream",
          "name": "stdout",
          "text": [
            "enter the namesezhian\n",
            "enter the passSezhiyan123\n",
            "False\n"
          ]
        }
      ]
    },
    {
      "cell_type": "code",
      "source": [
        "# or\n",
        "a=10\n",
        "b=5\n",
        "\n",
        "check= a<b or a>b\n",
        "\n",
        "print(check)\n"
      ],
      "metadata": {
        "colab": {
          "base_uri": "https://localhost:8080/"
        },
        "id": "n3NZL2UeNdXq",
        "outputId": "31175b57-e3bd-4726-a595-1deef18fbc1e"
      },
      "execution_count": null,
      "outputs": [
        {
          "output_type": "stream",
          "name": "stdout",
          "text": [
            "True\n"
          ]
        }
      ]
    },
    {
      "cell_type": "code",
      "source": [
        "# not\n",
        "\n",
        "a=10\n",
        "b=8\n",
        "\n",
        "check = not(a<b)\n",
        "\n",
        "print(check)"
      ],
      "metadata": {
        "id": "S0nQEQjyRq4X",
        "colab": {
          "base_uri": "https://localhost:8080/"
        },
        "outputId": "9abbafb5-cc8e-4d3a-82c5-cbca759bfc31"
      },
      "execution_count": null,
      "outputs": [
        {
          "output_type": "stream",
          "name": "stdout",
          "text": [
            "True\n"
          ]
        }
      ]
    },
    {
      "cell_type": "code",
      "source": [
        "# Membership  Operators - in, not in\n",
        "\n",
        "# in\n",
        "\n",
        "course=[\"python\",\"full stack\",\"DE\"]\n",
        "print(\"DI\" in course)\n",
        "print(\"DE\" in course)"
      ],
      "metadata": {
        "colab": {
          "base_uri": "https://localhost:8080/"
        },
        "id": "EyHuImkoucud",
        "outputId": "476c7bf5-a35d-4149-df02-1cac5fc0d07d"
      },
      "execution_count": null,
      "outputs": [
        {
          "output_type": "stream",
          "name": "stdout",
          "text": [
            "False\n",
            "True\n"
          ]
        }
      ]
    },
    {
      "cell_type": "code",
      "source": [
        "# not in\n",
        "print(\"DI\" not in course)\n",
        "print(\"DE\" not in course)"
      ],
      "metadata": {
        "colab": {
          "base_uri": "https://localhost:8080/"
        },
        "id": "jUZA_SrVvUUp",
        "outputId": "2dbb3d8f-9ff6-4f8f-e56c-9f72eca66229"
      },
      "execution_count": null,
      "outputs": [
        {
          "output_type": "stream",
          "name": "stdout",
          "text": [
            "True\n",
            "False\n"
          ]
        }
      ]
    },
    {
      "cell_type": "code",
      "source": [
        "# Identity Operators - is, is not\n",
        "\n",
        "# is\n",
        "a=[\"Python\", \"DA\"]\n",
        "b=[\"Python\", \"DA\"]\n",
        "\n",
        "c= b\n",
        "print(a is b)\n",
        "print(b is c)\n",
        "\n",
        "#is not\n",
        "\n",
        "print(a is not b)\n",
        "print(b is not c)"
      ],
      "metadata": {
        "colab": {
          "base_uri": "https://localhost:8080/"
        },
        "id": "-YI_wl1DvyZX",
        "outputId": "bcf035d9-8e23-4324-bdeb-e87e71934f67"
      },
      "execution_count": null,
      "outputs": [
        {
          "output_type": "stream",
          "name": "stdout",
          "text": [
            "False\n",
            "True\n",
            "True\n",
            "False\n"
          ]
        }
      ]
    },
    {
      "cell_type": "code",
      "source": [
        "# control STM - if , if else, nested if else, ladder if else\n",
        "# if\n",
        "\n",
        "mark=int(input(\"enter the value :\"))\n",
        "\n",
        "if mark>=35:\n",
        "  print(\"Pass\")\n",
        "\n",
        "if mark<35:\n",
        "  print(\"Fail\")\n"
      ],
      "metadata": {
        "colab": {
          "base_uri": "https://localhost:8080/"
        },
        "id": "9spoICwHO3Az",
        "outputId": "470d79d3-bc8f-408f-90e4-10ba4c44d0f9"
      },
      "execution_count": null,
      "outputs": [
        {
          "output_type": "stream",
          "name": "stdout",
          "text": [
            "enter the value :23\n",
            "Fail\n"
          ]
        }
      ]
    },
    {
      "cell_type": "code",
      "source": [
        "# if else\n",
        "age=int(input(\"Enter the age :\"))\n",
        "\n",
        "if age>=18:\n",
        "  print(\"Major\")\n",
        "\n",
        "else:\n",
        "  print(\"minor\")"
      ],
      "metadata": {
        "colab": {
          "base_uri": "https://localhost:8080/"
        },
        "id": "iUx2t-xySZTE",
        "outputId": "323668e3-3c1b-403e-8be2-4a4e3de8135e"
      },
      "execution_count": null,
      "outputs": [
        {
          "output_type": "stream",
          "name": "stdout",
          "text": [
            "Enter the age :20\n",
            "Major\n"
          ]
        }
      ]
    },
    {
      "cell_type": "code",
      "source": [
        "# if else\n",
        "Hight=float(input(\"enter the hight :\"))\n",
        "\n",
        "if Hight<=4:\n",
        "  print(\"Ride eligible\")\n",
        "\n",
        "else:\n",
        "  print(\"Not eligible\")"
      ],
      "metadata": {
        "colab": {
          "base_uri": "https://localhost:8080/"
        },
        "id": "lpPRcs8ET22E",
        "outputId": "b2429c86-ffe8-44ed-cc6f-9965d091664c"
      },
      "execution_count": null,
      "outputs": [
        {
          "output_type": "stream",
          "name": "stdout",
          "text": [
            "enter the hight :3.9\n",
            "Ride eligible\n"
          ]
        }
      ]
    },
    {
      "cell_type": "code",
      "source": [
        "# ladder if else\n",
        "\n",
        "temperature=float(input(\"enter the temp :\"))\n",
        "\n",
        "if temperature>30:\n",
        "  print(\"hot weather\")\n",
        "\n",
        "elif temperature<0:\n",
        "  print(\"cold weather\")\n",
        "else:\n",
        "  print(\"couldy weather\")\n"
      ],
      "metadata": {
        "colab": {
          "base_uri": "https://localhost:8080/"
        },
        "id": "f2GPis50WbQj",
        "outputId": "bbdda4c9-0e5a-44a9-cbe5-8ba0bae637d9"
      },
      "execution_count": null,
      "outputs": [
        {
          "output_type": "stream",
          "name": "stdout",
          "text": [
            "enter the temp :25\n",
            "couldy weather\n"
          ]
        }
      ]
    },
    {
      "cell_type": "code",
      "source": [
        "a=int(input(\"Enter the A Value :\"))\n",
        "b=int(input(\"Enter the B Value :\"))\n",
        "c=int(input(\"Enter the C Value :\"))\n",
        "\n",
        "if(a>b and a>c):\n",
        "  print(\"a is greater value\")\n",
        "elif(b>a and b>c):\n",
        "  print(\"b is greater value\")\n",
        "elif(c>a and c>b):\n",
        "  print(\"c in greater value\")\n",
        "else:\n",
        "  print(\"all value  are equal\")"
      ],
      "metadata": {
        "colab": {
          "base_uri": "https://localhost:8080/"
        },
        "id": "vRqQsbntcO9u",
        "outputId": "5234cd3d-ad47-4ef6-f080-afe0d0629a98"
      },
      "execution_count": null,
      "outputs": [
        {
          "output_type": "stream",
          "name": "stdout",
          "text": [
            "Enter the A Value :10\n",
            "Enter the B Value :10\n",
            "Enter the C Value :10\n",
            "all value  are equal\n"
          ]
        }
      ]
    },
    {
      "cell_type": "code",
      "source": [
        "# EB bill calculator\n",
        "\n",
        "unit=float(input(\"enter the unit :\"))\n",
        "\n",
        "if unit<=100:\n",
        "  bill=unit * 1.5\n",
        "elif unit<=200:\n",
        "  bill=(100 * 1.5) + (unit - 100)* 2.5\n",
        "elif unit<=300:\n",
        "  bill=(100 * 1.5) + (100 * 2.5) + (unit - 200) * 4\n",
        "else:\n",
        "  bill=(100 * 1.5) + (100 * 2.5) + (100 * 4) + (unit - 300) * 6\n",
        "print(f\"Your electricity bill is: ₹{bill:.2f}\")"
      ],
      "metadata": {
        "colab": {
          "base_uri": "https://localhost:8080/"
        },
        "id": "t-NgdJuIdxhI",
        "outputId": "a4981276-4e5b-4535-8811-1bbd4005accb"
      },
      "execution_count": null,
      "outputs": [
        {
          "output_type": "stream",
          "name": "stdout",
          "text": [
            "enter the unit :350\n",
            "Your electricity bill is: ₹1100.00\n"
          ]
        }
      ]
    },
    {
      "cell_type": "code",
      "source": [
        "# nested if else\n",
        "\n",
        "a=int(input(\"Enter the A Value :\"))\n",
        "b=int(input(\"Enter the B Value :\"))\n",
        "c=int(input(\"Enter the C Value :\"))\n",
        "\n",
        "if(a>b):\n",
        "  if(a>c):\n",
        "    print(\"a is the greater value\")\n",
        "  else:\n",
        "    print(\"c is the greater value\")\n",
        "else:\n",
        "  if(b>c):\n",
        "    print(\"b is the greater value\")\n",
        "  else:\n",
        "    print(\"c is the greater value\")\n"
      ],
      "metadata": {
        "colab": {
          "base_uri": "https://localhost:8080/"
        },
        "id": "zJK7URiCi2n7",
        "outputId": "71230f37-1d01-487b-e4fe-72017ccc1e92"
      },
      "execution_count": null,
      "outputs": [
        {
          "output_type": "stream",
          "name": "stdout",
          "text": [
            "Enter the A Value :10\n",
            "Enter the B Value :10\n",
            "Enter the C Value :30\n",
            "c is the greater value\n"
          ]
        }
      ]
    },
    {
      "cell_type": "code",
      "source": [
        "# grade\n",
        "\n",
        "mark= int(input(\"enter the mark :\"))\n",
        "\n",
        "if mark >=40:\n",
        "  print(\"Result: Pass\")\n",
        "\n",
        "  if mark>=90:\n",
        "    print(\"grade: a+\")\n",
        "  elif mark>=80:\n",
        "    print(\"grade: a\")\n",
        "  elif mark>=70:\n",
        "    print(\"grade: b\")\n",
        "  elif mark>=60:\n",
        "    print(\"grade: c\")\n",
        "  elif mark>=50:\n",
        "    print(\"grade: d\")\n",
        "  else:\n",
        "    print(\"grade: e\")\n",
        "else:\n",
        "  print(\"Result: Fail\")"
      ],
      "metadata": {
        "colab": {
          "base_uri": "https://localhost:8080/"
        },
        "id": "I-rOV0iEkZv4",
        "outputId": "f9ef796c-303e-4311-cb5f-0beaa59e4a2b"
      },
      "execution_count": null,
      "outputs": [
        {
          "output_type": "stream",
          "name": "stdout",
          "text": [
            "enter the mark :90\n",
            "Result: Pass\n",
            "grade: a+\n"
          ]
        }
      ]
    },
    {
      "cell_type": "code",
      "source": [
        "# 08/10/2025\n",
        "# Match Statement - match case\n",
        "day=int(input(\"enter the day :\"))\n",
        "\n",
        "match day:\n",
        "  case 1: print(\"Monday\")\n",
        "  case 2: print(\"Tuesday\")\n",
        "  case 3: print(\"Wednesday\")\n",
        "  case 4: print(\"Thursday\")\n",
        "  case 5: print(\"Friday\")\n",
        "  case 6: print(\"Saturday\")\n",
        "  case 7: print(\"Sunday\")\n",
        "  case _: print(\"Invalid value(enter the correct value)\")"
      ],
      "metadata": {
        "colab": {
          "base_uri": "https://localhost:8080/"
        },
        "id": "_81E0sS1cknn",
        "outputId": "934e38b0-3e51-4579-b8cf-8fc4b7598a5b"
      },
      "execution_count": null,
      "outputs": [
        {
          "output_type": "stream",
          "name": "stdout",
          "text": [
            "enter the day :6\n",
            "Saturday\n"
          ]
        }
      ]
    },
    {
      "cell_type": "code",
      "source": [
        "Month=int(input(\"enter the Month :\"))\n",
        "\n",
        "match Month:\n",
        "  case 1: print(\"January\")\n",
        "  case 2: print(\"February\")\n",
        "  case 3: print(\"March\")\n",
        "  case 4: print(\"April\")\n",
        "  case 5: print(\"May\")\n",
        "  case 6: print(\"June\")\n",
        "  case 7: print(\"July\")\n",
        "  case 8: print(\"August\")\n",
        "  case 9: print(\"September\")\n",
        "  case 10: print(\"October\")\n",
        "  case 11: print(\"November\")\n",
        "  case 12: print(\"December\")\n",
        "  case _: print(\"Invalid value(enter the correct value)\")"
      ],
      "metadata": {
        "colab": {
          "base_uri": "https://localhost:8080/"
        },
        "id": "W5URdM7IepcA",
        "outputId": "2313518f-6e3d-47eb-d61a-f86466f4da44"
      },
      "execution_count": null,
      "outputs": [
        {
          "output_type": "stream",
          "name": "stdout",
          "text": [
            "enter the Month :8\n",
            "August\n"
          ]
        }
      ]
    },
    {
      "cell_type": "code",
      "source": [
        "num1=int(input(\"Enter the value :\"))\n",
        "num2=int(input(\"Enter the value :\"))\n",
        "answer=input(\"enter the +,-,*,/,%\")\n",
        "\n",
        "match answer:\n",
        "  case \"+\": print(num1 + num2)\n",
        "  case \"-\": print(num1 - num2)\n",
        "  case \"*\": print(num1 * num2)\n",
        "  case \"/\": print(num1 / num2)\n",
        "  case \"%\": print(num1 % num2)\n",
        "  case _: print(\"Enter the correct value\")"
      ],
      "metadata": {
        "colab": {
          "base_uri": "https://localhost:8080/"
        },
        "id": "LaQkuzvPf5eh",
        "outputId": "4b1eb7d9-0163-4bc4-d05d-90ef15260819"
      },
      "execution_count": null,
      "outputs": [
        {
          "output_type": "stream",
          "name": "stdout",
          "text": [
            "Enter the value :12\n",
            "Enter the value :10\n",
            "enter the +,-,*,/,%*\n",
            "120\n"
          ]
        }
      ]
    },
    {
      "cell_type": "code",
      "source": [
        "# Looping statement - While loop, for loop\n",
        "# While loop\n",
        "\n",
        "i=1\n",
        "while(i<=5):\n",
        "  print(i)\n",
        "  i+=1\n"
      ],
      "metadata": {
        "colab": {
          "base_uri": "https://localhost:8080/"
        },
        "id": "WVLv6EehirW9",
        "outputId": "81f904ce-d8b7-4248-ae2b-ad900bfb5813"
      },
      "execution_count": null,
      "outputs": [
        {
          "output_type": "stream",
          "name": "stdout",
          "text": [
            "1\n",
            "2\n",
            "3\n",
            "4\n",
            "5\n"
          ]
        }
      ]
    },
    {
      "cell_type": "code",
      "source": [
        "i=1\n",
        "while(i<=5):\n",
        "  print(\"python program\")\n",
        "  i+=1"
      ],
      "metadata": {
        "colab": {
          "base_uri": "https://localhost:8080/"
        },
        "id": "_eCuoGKijx1W",
        "outputId": "1949cc62-066f-42d7-a952-46ea8de47f57"
      },
      "execution_count": null,
      "outputs": [
        {
          "output_type": "stream",
          "name": "stdout",
          "text": [
            "python program\n",
            "python program\n",
            "python program\n",
            "python program\n",
            "python program\n"
          ]
        }
      ]
    },
    {
      "cell_type": "code",
      "source": [
        "i=1\n",
        "while(i<=10):\n",
        "  print(i ,\"* 5 =\",i*5)\n",
        "  i+=1"
      ],
      "metadata": {
        "colab": {
          "base_uri": "https://localhost:8080/"
        },
        "id": "Qsucckwkm5zo",
        "outputId": "ea19f8b4-d40f-419f-97d7-f0351c40ef08"
      },
      "execution_count": null,
      "outputs": [
        {
          "output_type": "stream",
          "name": "stdout",
          "text": [
            "1 * 5 = 5\n",
            "2 * 5 = 10\n",
            "3 * 5 = 15\n",
            "4 * 5 = 20\n",
            "5 * 5 = 25\n",
            "6 * 5 = 30\n",
            "7 * 5 = 35\n",
            "8 * 5 = 40\n",
            "9 * 5 = 45\n",
            "10 * 5 = 50\n"
          ]
        }
      ]
    },
    {
      "cell_type": "code",
      "source": [
        "# for loop\n",
        "\n",
        "for i in \"python\":\n",
        "  print(i)"
      ],
      "metadata": {
        "colab": {
          "base_uri": "https://localhost:8080/"
        },
        "id": "L5JgYMRkj6_U",
        "outputId": "0b20f77f-8179-4f4c-c492-8d5cf6178ae6"
      },
      "execution_count": null,
      "outputs": [
        {
          "output_type": "stream",
          "name": "stdout",
          "text": [
            "p\n",
            "y\n",
            "t\n",
            "h\n",
            "o\n",
            "n\n"
          ]
        }
      ]
    },
    {
      "cell_type": "code",
      "source": [
        "for i in range(1,6):\n",
        "  print(i)"
      ],
      "metadata": {
        "colab": {
          "base_uri": "https://localhost:8080/"
        },
        "id": "qgcFpAENlky3",
        "outputId": "f5c88a78-e2c7-4b9c-959f-1c26005f52ba"
      },
      "execution_count": null,
      "outputs": [
        {
          "output_type": "stream",
          "name": "stdout",
          "text": [
            "1\n",
            "2\n",
            "3\n",
            "4\n",
            "5\n"
          ]
        }
      ]
    },
    {
      "cell_type": "code",
      "source": [
        "for i in range(1,11):\n",
        "  print(i,\"* 3 =\",i*3)"
      ],
      "metadata": {
        "colab": {
          "base_uri": "https://localhost:8080/"
        },
        "id": "27QF8gw5ni3b",
        "outputId": "8f5dd5f7-d48a-4aaa-ddcb-d7a36edcb609"
      },
      "execution_count": null,
      "outputs": [
        {
          "output_type": "stream",
          "name": "stdout",
          "text": [
            "1 * 3 = 3\n",
            "2 * 3 = 6\n",
            "3 * 3 = 9\n",
            "4 * 3 = 12\n",
            "5 * 3 = 15\n",
            "6 * 3 = 18\n",
            "7 * 3 = 21\n",
            "8 * 3 = 24\n",
            "9 * 3 = 27\n",
            "10 * 3 = 30\n"
          ]
        }
      ]
    },
    {
      "cell_type": "code",
      "source": [
        "# if else in for loop\n",
        "\n",
        "for i in range(11):\n",
        "  if (i%2==0):\n",
        "    print(i,\"- Even number\")\n",
        "  else:\n",
        "    print(i,\"- Odd number\")\n"
      ],
      "metadata": {
        "colab": {
          "base_uri": "https://localhost:8080/"
        },
        "id": "wWTHCGKtn-UV",
        "outputId": "483a67b2-5e8b-4d75-d504-0e7029807040"
      },
      "execution_count": null,
      "outputs": [
        {
          "output_type": "stream",
          "name": "stdout",
          "text": [
            "0 - Even number\n",
            "1 - Odd number\n",
            "2 - Even number\n",
            "3 - Odd number\n",
            "4 - Even number\n",
            "5 - Odd number\n",
            "6 - Even number\n",
            "7 - Odd number\n",
            "8 - Even number\n",
            "9 - Odd number\n",
            "10 - Even number\n"
          ]
        }
      ]
    },
    {
      "cell_type": "code",
      "source": [
        "# Pattern\n",
        "\n",
        "for i in range(1,6):\n",
        "  for j in range(1,6):\n",
        "    print(\"*\",end=\" \")\n",
        "  print()"
      ],
      "metadata": {
        "colab": {
          "base_uri": "https://localhost:8080/"
        },
        "id": "Ts6Xl1AJo7fn",
        "outputId": "17b26922-497e-4ac3-8c44-805761bf9467"
      },
      "execution_count": null,
      "outputs": [
        {
          "output_type": "stream",
          "name": "stdout",
          "text": [
            "* * * * * \n",
            "* * * * * \n",
            "* * * * * \n",
            "* * * * * \n",
            "* * * * * \n"
          ]
        }
      ]
    },
    {
      "cell_type": "code",
      "source": [
        "for i in range(1,6):\n",
        "  for j in range(1,6):\n",
        "    print(i,end=\" \")\n",
        "  print()"
      ],
      "metadata": {
        "colab": {
          "base_uri": "https://localhost:8080/"
        },
        "id": "q8ihRRb1r9oG",
        "outputId": "489089b9-e39b-4180-bee4-2432d394f5a3"
      },
      "execution_count": null,
      "outputs": [
        {
          "output_type": "stream",
          "name": "stdout",
          "text": [
            "1 1 1 1 1 \n",
            "2 2 2 2 2 \n",
            "3 3 3 3 3 \n",
            "4 4 4 4 4 \n",
            "5 5 5 5 5 \n"
          ]
        }
      ]
    },
    {
      "cell_type": "code",
      "source": [
        "for i in range(1,6):\n",
        "  for j in range(1,6):\n",
        "    print(j,end=\" \")\n",
        "  print()"
      ],
      "metadata": {
        "colab": {
          "base_uri": "https://localhost:8080/"
        },
        "id": "9qHnpxNzsnDA",
        "outputId": "049fea1b-7f12-4ba7-d283-9b272202a3e1"
      },
      "execution_count": null,
      "outputs": [
        {
          "output_type": "stream",
          "name": "stdout",
          "text": [
            "1 2 3 4 5 \n",
            "1 2 3 4 5 \n",
            "1 2 3 4 5 \n",
            "1 2 3 4 5 \n",
            "1 2 3 4 5 \n"
          ]
        }
      ]
    },
    {
      "cell_type": "code",
      "source": [
        "for i in range(ord(\"A\"),ord(\"F\")):\n",
        "  for j in range(ord(\"A\"),ord(\"F\")):\n",
        "    print(chr(i),end=\" \")\n",
        "  print()"
      ],
      "metadata": {
        "colab": {
          "base_uri": "https://localhost:8080/"
        },
        "id": "OM2bx3PVtkgs",
        "outputId": "8ee25b46-6090-4149-967a-9324b233bde0"
      },
      "execution_count": null,
      "outputs": [
        {
          "output_type": "stream",
          "name": "stdout",
          "text": [
            "A A A A A \n",
            "B B B B B \n",
            "C C C C C \n",
            "D D D D D \n",
            "E E E E E \n"
          ]
        }
      ]
    },
    {
      "cell_type": "code",
      "source": [
        "for i in range(ord(\"A\"),ord(\"F\")):\n",
        "  for j in range(ord(\"A\"),ord(\"F\")):\n",
        "    print(chr(j),end=\" \")\n",
        "  print()"
      ],
      "metadata": {
        "colab": {
          "base_uri": "https://localhost:8080/"
        },
        "id": "SJvpVv4UvrYu",
        "outputId": "7a9105b6-e80e-4a55-860a-bf3546797e10"
      },
      "execution_count": null,
      "outputs": [
        {
          "output_type": "stream",
          "name": "stdout",
          "text": [
            "A B C D E \n",
            "A B C D E \n",
            "A B C D E \n",
            "A B C D E \n",
            "A B C D E \n"
          ]
        }
      ]
    },
    {
      "cell_type": "code",
      "source": [
        "# 9/10/2025\n",
        "# Pattern\n",
        "for i in range(5,0, -1):\n",
        "  for j in range(5,0, -1):\n",
        "    print(i ,end=\" \")\n",
        "  print()"
      ],
      "metadata": {
        "colab": {
          "base_uri": "https://localhost:8080/"
        },
        "id": "QmYm4Rw2khQr",
        "outputId": "ef8d6710-c384-4214-c691-bbe32e2c8d44"
      },
      "execution_count": 46,
      "outputs": [
        {
          "output_type": "stream",
          "name": "stdout",
          "text": [
            "5 5 5 5 5 \n",
            "4 4 4 4 4 \n",
            "3 3 3 3 3 \n",
            "2 2 2 2 2 \n",
            "1 1 1 1 1 \n"
          ]
        }
      ]
    },
    {
      "cell_type": "code",
      "source": [
        "for i in range(5,0, -1):\n",
        "  for j in range(5,0, -1):\n",
        "    print(j ,end=\" \")\n",
        "  print()"
      ],
      "metadata": {
        "colab": {
          "base_uri": "https://localhost:8080/"
        },
        "id": "UUVKg-HnmRmz",
        "outputId": "d5957acc-7ad0-45e9-dc4c-c017f454bf91"
      },
      "execution_count": 47,
      "outputs": [
        {
          "output_type": "stream",
          "name": "stdout",
          "text": [
            "5 4 3 2 1 \n",
            "5 4 3 2 1 \n",
            "5 4 3 2 1 \n",
            "5 4 3 2 1 \n",
            "5 4 3 2 1 \n"
          ]
        }
      ]
    },
    {
      "cell_type": "code",
      "source": [
        "s=1\n",
        "for i in range(5,0, -1):\n",
        "  for j in range(5,0, -1):\n",
        "    print(s ,end=\" \")\n",
        "    s+=1\n",
        "  print()"
      ],
      "metadata": {
        "colab": {
          "base_uri": "https://localhost:8080/"
        },
        "id": "Iv7svjPCmWTH",
        "outputId": "295c5905-d917-4566-a8a4-da01f66f0f95"
      },
      "execution_count": 51,
      "outputs": [
        {
          "output_type": "stream",
          "name": "stdout",
          "text": [
            "1 2 3 4 5 \n",
            "6 7 8 9 10 \n",
            "11 12 13 14 15 \n",
            "16 17 18 19 20 \n",
            "21 22 23 24 25 \n"
          ]
        }
      ]
    },
    {
      "cell_type": "code",
      "source": [
        "s=1\n",
        "print(\"Numbers\")\n",
        "for i in range(5,0, -1):\n",
        "  for j in range(5,0, -1):\n",
        "    print(s ,end=\" \")\n",
        "    s+=1\n",
        "  print()"
      ],
      "metadata": {
        "colab": {
          "base_uri": "https://localhost:8080/"
        },
        "id": "rhjqV8Wfmwh2",
        "outputId": "db19a792-b6a0-48c2-f203-cace00d60880"
      },
      "execution_count": 58,
      "outputs": [
        {
          "output_type": "stream",
          "name": "stdout",
          "text": [
            "Even numbers\n",
            "1 2 3 4 5 \n",
            "6 7 8 9 10 \n",
            "11 12 13 14 15 \n",
            "16 17 18 19 20 \n",
            "21 22 23 24 25 \n"
          ]
        }
      ]
    },
    {
      "cell_type": "code",
      "source": [
        "s=0\n",
        "print(\"Even Numbers\")\n",
        "for i in range(5,0, -1):\n",
        "  for j in range(5,0, -1):\n",
        "    print(s ,end=\" \")\n",
        "    s+=2\n",
        "  print()"
      ],
      "metadata": {
        "colab": {
          "base_uri": "https://localhost:8080/"
        },
        "id": "TRAA90S4nTuT",
        "outputId": "2cf67ffe-f195-4f4d-e11b-c29357e695be"
      },
      "execution_count": 60,
      "outputs": [
        {
          "output_type": "stream",
          "name": "stdout",
          "text": [
            "Even Numbers\n",
            "0 2 4 6 8 \n",
            "10 12 14 16 18 \n",
            "20 22 24 26 28 \n",
            "30 32 34 36 38 \n",
            "40 42 44 46 48 \n"
          ]
        }
      ]
    },
    {
      "cell_type": "code",
      "source": [
        "s=1\n",
        "print(\"Odd Numbers\")\n",
        "for i in range(5,0, -1):\n",
        "  for j in range(5,0, -1):\n",
        "    print(s ,end=\" \")\n",
        "    s+=2\n",
        "  print()"
      ],
      "metadata": {
        "colab": {
          "base_uri": "https://localhost:8080/"
        },
        "id": "tMYORnO3nbgp",
        "outputId": "031020e9-6217-4d3b-890b-008e94b78f8c"
      },
      "execution_count": 64,
      "outputs": [
        {
          "output_type": "stream",
          "name": "stdout",
          "text": [
            "Odd Numbers\n",
            "1 3 5 7 9 \n",
            "11 13 15 17 19 \n",
            "21 23 25 27 29 \n",
            "31 33 35 37 39 \n",
            "41 43 45 47 49 \n"
          ]
        }
      ]
    },
    {
      "cell_type": "code",
      "source": [
        "for i in range(65,70):\n",
        "  for j in range(1,6):\n",
        "    print(chr(i), end=\" \")\n",
        "  print()"
      ],
      "metadata": {
        "colab": {
          "base_uri": "https://localhost:8080/"
        },
        "id": "AnZJQGwjnqgh",
        "outputId": "f15107ab-cab2-48ff-c508-4e0752e3c2fd"
      },
      "execution_count": 65,
      "outputs": [
        {
          "output_type": "stream",
          "name": "stdout",
          "text": [
            "A A A A A \n",
            "B B B B B \n",
            "C C C C C \n",
            "D D D D D \n",
            "E E E E E \n"
          ]
        }
      ]
    },
    {
      "cell_type": "code",
      "source": [
        "for i in range(65,70):\n",
        "  for j in range(65,70):\n",
        "    print(chr(j), end=\" \")\n",
        "  print()"
      ],
      "metadata": {
        "colab": {
          "base_uri": "https://localhost:8080/"
        },
        "id": "OEPDrceyoFVG",
        "outputId": "067134b9-896d-4c52-f797-3a90369aade8"
      },
      "execution_count": 69,
      "outputs": [
        {
          "output_type": "stream",
          "name": "stdout",
          "text": [
            "A B C D E \n",
            "A B C D E \n",
            "A B C D E \n",
            "A B C D E \n",
            "A B C D E \n"
          ]
        }
      ]
    },
    {
      "cell_type": "code",
      "source": [
        "for i in range(69,64,-1):\n",
        "  for j in range(69,64,-1):\n",
        "    print(chr(i), end=\" \")\n",
        "  print()"
      ],
      "metadata": {
        "colab": {
          "base_uri": "https://localhost:8080/"
        },
        "id": "JsYarR9ToT2-",
        "outputId": "e0d7621b-fbb0-4a24-d0e2-b9bb6938596b"
      },
      "execution_count": 71,
      "outputs": [
        {
          "output_type": "stream",
          "name": "stdout",
          "text": [
            "E E E E E \n",
            "D D D D D \n",
            "C C C C C \n",
            "B B B B B \n",
            "A A A A A \n"
          ]
        }
      ]
    },
    {
      "cell_type": "code",
      "source": [
        "for i in range(69,64,-1):\n",
        "  for j in range(69,64,-1):\n",
        "    print(chr(j), end=\" \")\n",
        "  print()"
      ],
      "metadata": {
        "colab": {
          "base_uri": "https://localhost:8080/"
        },
        "id": "gwvk_QEhoqZg",
        "outputId": "63d9a593-f801-44d1-d93b-b76f0f22f33a"
      },
      "execution_count": 72,
      "outputs": [
        {
          "output_type": "stream",
          "name": "stdout",
          "text": [
            "E D C B A \n",
            "E D C B A \n",
            "E D C B A \n",
            "E D C B A \n",
            "E D C B A \n"
          ]
        }
      ]
    },
    {
      "cell_type": "code",
      "source": [
        "k=65\n",
        "for i in range(1,6):\n",
        "  for j in range(1,6):\n",
        "    print(chr(k), end=\" \")\n",
        "    k+=1\n",
        "  print()"
      ],
      "metadata": {
        "colab": {
          "base_uri": "https://localhost:8080/"
        },
        "id": "CBW0YG6Tqy92",
        "outputId": "646da520-2637-4626-e374-20e32f2ea0ae"
      },
      "execution_count": 158,
      "outputs": [
        {
          "output_type": "stream",
          "name": "stdout",
          "text": [
            "A B C D E \n",
            "F G H I J \n",
            "K L M N O \n",
            "P Q R S T \n",
            "U V W X Y \n"
          ]
        }
      ]
    },
    {
      "cell_type": "code",
      "source": [
        "for i in range(1,6):\n",
        "  for j in range(1, i+1):\n",
        "    print(\"*\",end=\" \")\n",
        "  print()"
      ],
      "metadata": {
        "colab": {
          "base_uri": "https://localhost:8080/"
        },
        "id": "xw14Jza_pOya",
        "outputId": "60e93b7c-118a-4100-9d06-c67e29edfc08"
      },
      "execution_count": 122,
      "outputs": [
        {
          "output_type": "stream",
          "name": "stdout",
          "text": [
            "* \n",
            "* * \n",
            "* * * \n",
            "* * * * \n",
            "* * * * * \n"
          ]
        }
      ]
    },
    {
      "cell_type": "code",
      "source": [
        "for i in range(5,0, -1):\n",
        "  for j in range(1, i+1):\n",
        "    print(\"*\",end=\" \")\n",
        "  print()"
      ],
      "metadata": {
        "colab": {
          "base_uri": "https://localhost:8080/"
        },
        "id": "5kXkOh-wpzYf",
        "outputId": "8e86e49f-3877-4ecd-c410-153680d08b22"
      },
      "execution_count": 121,
      "outputs": [
        {
          "output_type": "stream",
          "name": "stdout",
          "text": [
            "* * * * * \n",
            "* * * * \n",
            "* * * \n",
            "* * \n",
            "* \n"
          ]
        }
      ]
    },
    {
      "cell_type": "code",
      "source": [
        "for i in range(1,6):\n",
        "  for j in range(1, i+1):\n",
        "    print(i,end=\" \")\n",
        "  print()"
      ],
      "metadata": {
        "colab": {
          "base_uri": "https://localhost:8080/"
        },
        "id": "2Nnxi0_Ts_Pe",
        "outputId": "23078031-3097-4851-aa12-a5cfbf561c53"
      },
      "execution_count": 182,
      "outputs": [
        {
          "output_type": "stream",
          "name": "stdout",
          "text": [
            "1 \n",
            "2 2 \n",
            "3 3 3 \n",
            "4 4 4 4 \n",
            "5 5 5 5 5 \n"
          ]
        }
      ]
    },
    {
      "cell_type": "code",
      "source": [
        "for i in range(5,0, -1):\n",
        "  for j in range(1, i+1):\n",
        "    print(i,end=\" \")\n",
        "  print()"
      ],
      "metadata": {
        "colab": {
          "base_uri": "https://localhost:8080/"
        },
        "id": "5I3MJhxVtOqL",
        "outputId": "a56add7e-b7b6-45c9-97a6-2d2418716693"
      },
      "execution_count": 131,
      "outputs": [
        {
          "output_type": "stream",
          "name": "stdout",
          "text": [
            "5 5 5 5 5 \n",
            "4 4 4 4 \n",
            "3 3 3 \n",
            "2 2 \n",
            "1 \n"
          ]
        }
      ]
    },
    {
      "cell_type": "code",
      "source": [
        "for i in range(1,6):\n",
        "  for j in range(5,5-i,-1):\n",
        "    print(j,end=\" \")\n",
        "  print()"
      ],
      "metadata": {
        "colab": {
          "base_uri": "https://localhost:8080/"
        },
        "id": "wumvedh53w3q",
        "outputId": "2318b867-aacf-44f9-df1e-a3d35c9d8e83"
      },
      "execution_count": 212,
      "outputs": [
        {
          "output_type": "stream",
          "name": "stdout",
          "text": [
            "5 \n",
            "5 4 \n",
            "5 4 3 \n",
            "5 4 3 2 \n",
            "5 4 3 2 1 \n"
          ]
        }
      ]
    },
    {
      "cell_type": "code",
      "source": [
        "for i in range(1,6):\n",
        "  for j in range(1,i+1):\n",
        "    print(j,end=\" \")\n",
        "  print()"
      ],
      "metadata": {
        "colab": {
          "base_uri": "https://localhost:8080/"
        },
        "id": "7ebiR5P_tuEs",
        "outputId": "7bfbc91c-4660-48e3-8bb9-e84b8eac6b04"
      },
      "execution_count": 139,
      "outputs": [
        {
          "output_type": "stream",
          "name": "stdout",
          "text": [
            "1 \n",
            "1 2 \n",
            "1 2 3 \n",
            "1 2 3 4 \n",
            "1 2 3 4 5 \n"
          ]
        }
      ]
    },
    {
      "cell_type": "code",
      "source": [
        "for i in range(5,0,-1):\n",
        "  for j in range(1,i+1):\n",
        "    print(j,end=\" \")\n",
        "  print()"
      ],
      "metadata": {
        "colab": {
          "base_uri": "https://localhost:8080/"
        },
        "id": "70QyifUHugSw",
        "outputId": "d88d360f-d4f1-482a-a44e-5c3c938c6933"
      },
      "execution_count": 127,
      "outputs": [
        {
          "output_type": "stream",
          "name": "stdout",
          "text": [
            "1 2 3 4 5 \n",
            "1 2 3 4 \n",
            "1 2 3 \n",
            "1 2 \n",
            "1 \n"
          ]
        }
      ]
    },
    {
      "cell_type": "code",
      "source": [
        "for i in range(65,70):\n",
        "  for j in range(65,i+1):\n",
        "    print(chr(i),end=\" \")\n",
        "  print()"
      ],
      "metadata": {
        "colab": {
          "base_uri": "https://localhost:8080/"
        },
        "id": "Ip6Xm2BxvDs1",
        "outputId": "e8bb5cf5-c938-4717-800c-1eb5b16e9a6d"
      },
      "execution_count": 148,
      "outputs": [
        {
          "output_type": "stream",
          "name": "stdout",
          "text": [
            "A \n",
            "B B \n",
            "C C C \n",
            "D D D D \n",
            "E E E E E \n"
          ]
        }
      ]
    },
    {
      "cell_type": "code",
      "source": [
        "for i in range(65,70):\n",
        "  for j in range(65,i+1):\n",
        "    print(chr(j),end=\" \")\n",
        "  print()"
      ],
      "metadata": {
        "colab": {
          "base_uri": "https://localhost:8080/"
        },
        "id": "wRt_IqoowO45",
        "outputId": "a6c52b5d-74da-4208-bd1d-0717800f47fa"
      },
      "execution_count": 189,
      "outputs": [
        {
          "output_type": "stream",
          "name": "stdout",
          "text": [
            "A \n",
            "A B \n",
            "A B C \n",
            "A B C D \n",
            "A B C D E \n"
          ]
        }
      ]
    },
    {
      "cell_type": "code",
      "source": [
        "for i in range(69,64, -1):\n",
        "  for j in range(65,i+1):\n",
        "    print(chr(i),end=\" \")\n",
        "  print()"
      ],
      "metadata": {
        "colab": {
          "base_uri": "https://localhost:8080/"
        },
        "id": "ieF1T_jiwUrZ",
        "outputId": "ce6ee722-af91-4e6e-db1d-4e8238e49509"
      },
      "execution_count": 180,
      "outputs": [
        {
          "output_type": "stream",
          "name": "stdout",
          "text": [
            "E E E E E \n",
            "D D D D \n",
            "C C C \n",
            "B B \n",
            "A \n"
          ]
        }
      ]
    },
    {
      "cell_type": "code",
      "source": [
        "for i in range(69,64, -1):\n",
        "  for j in range(65,i+1):\n",
        "    print(chr(j),end=\" \")\n",
        "  print()"
      ],
      "metadata": {
        "colab": {
          "base_uri": "https://localhost:8080/"
        },
        "id": "FosWF1eWwjD6",
        "outputId": "5afd8ded-6baf-4af7-a4d1-ccbe9043cb24"
      },
      "execution_count": 152,
      "outputs": [
        {
          "output_type": "stream",
          "name": "stdout",
          "text": [
            "A B C D E \n",
            "A B C D \n",
            "A B C \n",
            "A B \n",
            "A \n"
          ]
        }
      ]
    },
    {
      "cell_type": "code",
      "source": [
        "for i in range(65,70):\n",
        "  for j in range(69,69-(i-64),-1):\n",
        "    print(chr(j),end=\" \")\n",
        "  print()"
      ],
      "metadata": {
        "colab": {
          "base_uri": "https://localhost:8080/"
        },
        "id": "Npsn5ctay_wE",
        "outputId": "618d0028-5320-4b6d-f741-90cdd3dc5080"
      },
      "execution_count": 217,
      "outputs": [
        {
          "output_type": "stream",
          "name": "stdout",
          "text": [
            "E \n",
            "E D \n",
            "E D C \n",
            "E D C B \n",
            "E D C B A \n"
          ]
        }
      ]
    }
  ]
}